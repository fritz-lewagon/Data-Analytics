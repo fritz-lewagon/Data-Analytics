{
 "cells": [
  {
   "cell_type": "code",
   "execution_count": null,
   "metadata": {},
   "outputs": [],
   "source": [
    "import pandas as pd\n",
    "from sklearn.compose import ColumnTransformer\n",
    "from sklearn.preprocessing import OneHotEncoder\n",
    "from sklearn.preprocessing import KBinsDiscretizer\n",
    "from sklearn.pipeline import Pipeline\n",
    "import sys\n",
    "from xgboost import XGBClassifier\n",
    "from sklearn.preprocessing import StandardScaler\n",
    "from sklearn.model_selection import cross_val_score\n",
    "from sklearn.model_selection import train_test_split\n",
    "from sklearn.model_selection import GridSearchCV"
   ]
  },
  {
   "cell_type": "code",
   "execution_count": null,
   "metadata": {},
   "outputs": [],
   "source": []
  },
  {
   "cell_type": "code",
   "execution_count": null,
   "metadata": {},
   "outputs": [],
   "source": [
    "df = pd.read_csv('https://github.com/jnin/information-systems/raw/main/data/compas_ai2.csv')\n",
    "\n",
    "df['Severity'] = df['DecileScore'] > df['DecileScore'].median()\n",
    "df.drop(columns = ['DecileScore'], inplace=True)\n",
    "\n",
    "X = df.drop(columns=[\"Severity\"])\n",
    "y = df['Severity']\n",
    "\n",
    "numerical_features = ['YearOfBirth']\n",
    "categorical_features = ['Agency','Gender','Ethnic','ScaleSet','LegalStatus','CustodyStatus','MaritalStatus','DisplayText']\n",
    "transformer = ColumnTransformer([('categorical_transformations', OneHotEncoder(sparse=False), categorical_features),\n",
    "                                ('numerical_transformations', KBinsDiscretizer(encode='ordinal'), numerical_features)], \n",
    "                                remainder='passthrough')"
   ]
  },
  {
   "cell_type": "code",
   "execution_count": null,
   "metadata": {},
   "outputs": [],
   "source": [
    "pipeline_steps = [('preprocess', transformer),\n",
    "                  ('scaler', StandardScaler()),\n",
    "                  ('xgboost',XGBClassifier(use_label_encoder=False, disable_default_eval_metric=True))]\n",
    "\n",
    "\n",
    "pipe = Pipeline(pipeline_steps)"
   ]
  },
  {
   "cell_type": "code",
   "execution_count": null,
   "metadata": {},
   "outputs": [],
   "source": [
    "X_train, X_test, y_train, y_test = train_test_split(X, y, train_size = 0.9, test_size = 0.1, random_state = 42)\n",
    "\n",
    "\n",
    "def cross_validation_compas(compas_pipe, X_train, y_train):\n",
    "    \n",
    "    return cross_val_score(compas_pipe, X_train, y_train, cv=5, scoring = 'roc_auc').mean()"
   ]
  },
  {
   "cell_type": "code",
   "execution_count": null,
   "metadata": {},
   "outputs": [],
   "source": [
    "cross_validation_compas(pipe, X_train, y_train)"
   ]
  },
  {
   "cell_type": "code",
   "execution_count": null,
   "metadata": {},
   "outputs": [],
   "source": [
    "def grid_search_compas(compas_pipe, parameters, X_train, X_test, y_train, y_test):\n",
    "    \n",
    "    CV_GS = GridSearchCV(compas_pipe, parameters, cv=5, verbose = 3, scoring = 'roc_auc', return_train_score = True, )\n",
    "    CV_GS.fit(X_train, y_train)\n",
    "    \n",
    "    return CV_GS.best_estimator_.score(X_test, y_test), CV_GS"
   ]
  },
  {
   "cell_type": "code",
   "execution_count": null,
   "metadata": {},
   "outputs": [],
   "source": [
    "parameters = { \n",
    "'xgboost__max_depth' : [2, 6, 20],\n",
    "'xgboost__n_estimators' : [10, 100]   \n",
    "}\n",
    "\n",
    "score, grid = grid_search_compas(pipe, parameters, X_train, X_test, y_train, y_test)"
   ]
  },
  {
   "cell_type": "code",
   "execution_count": null,
   "metadata": {},
   "outputs": [],
   "source": [
    "pd.DataFrame({\n",
    "     'max_depth': {0: 2, 1: 2, 2: 6, 3: 6, 4: 20, 5: 20},\n",
    "     'n_estimators': {0: 10, 1: 100, 2: 10, 3: 100, 4: 10, 5: 100},\n",
    "     'mean_train_score': {0: 0.8550474223586788,\n",
    "                          1: 0.8873265879037542,\n",
    "                          2: 0.9002253881327207,\n",
    "                          3: 0.910929370639835,\n",
    "                          4: 0.9178935505438173,\n",
    "                          5: 0.9274086768755755},\n",
    "     'mean_test_score':  {0: 0.8549714902093231,\n",
    "                          1: 0.8862446860845479,\n",
    "                          2: 0.8968701337253802,\n",
    "                          3: 0.8968171100368609,\n",
    "                          4: 0.8908078571115927,\n",
    "                          5: 0.8829054959715282}})"
   ]
  },
  {
   "cell_type": "code",
   "execution_count": null,
   "metadata": {},
   "outputs": [],
   "source": [
    "cv_results = pd.DataFrame(grid.cv_results_)\n",
    "cv_results = pd.concat((cv_results['params'].apply(pd.Series), cv_results[['mean_train_score', 'mean_test_score']]), axis=1)\n",
    "cv_results"
   ]
  },
  {
   "cell_type": "code",
   "execution_count": null,
   "metadata": {},
   "outputs": [],
   "source": [
    "parameters = { \n",
    "'preprocess__numerical_transformations__n_bins' : [2,20],\n",
    "'xgboost__max_depth' : [2, 6, 20],\n",
    "'xgboost__n_estimators' : [10, 100]   \n",
    "}\n",
    "\n",
    "score_pre, grid_pre = grid_search_compas(pipe, parameters, X_train, X_test, y_train, y_test)\n",
    "\n"
   ]
  },
  {
   "cell_type": "code",
   "execution_count": null,
   "metadata": {},
   "outputs": [],
   "source": []
  }
 ],
 "metadata": {
  "kernelspec": {
   "display_name": "Python 3",
   "language": "python",
   "name": "python3"
  },
  "language_info": {
   "codemirror_mode": {
    "name": "ipython",
    "version": 3
   },
   "file_extension": ".py",
   "mimetype": "text/x-python",
   "name": "python",
   "nbconvert_exporter": "python",
   "pygments_lexer": "ipython3",
   "version": "3.8.3"
  },
  "toc": {
   "base_numbering": 1,
   "nav_menu": {},
   "number_sections": true,
   "sideBar": true,
   "skip_h1_title": false,
   "title_cell": "Table of Contents",
   "title_sidebar": "Contents",
   "toc_cell": false,
   "toc_position": {},
   "toc_section_display": true,
   "toc_window_display": false
  },
  "varInspector": {
   "cols": {
    "lenName": 16,
    "lenType": 16,
    "lenVar": 40
   },
   "kernels_config": {
    "python": {
     "delete_cmd_postfix": "",
     "delete_cmd_prefix": "del ",
     "library": "var_list.py",
     "varRefreshCmd": "print(var_dic_list())"
    },
    "r": {
     "delete_cmd_postfix": ") ",
     "delete_cmd_prefix": "rm(",
     "library": "var_list.r",
     "varRefreshCmd": "cat(var_dic_list()) "
    }
   },
   "types_to_exclude": [
    "module",
    "function",
    "builtin_function_or_method",
    "instance",
    "_Feature"
   ],
   "window_display": false
  }
 },
 "nbformat": 4,
 "nbformat_minor": 4
}
