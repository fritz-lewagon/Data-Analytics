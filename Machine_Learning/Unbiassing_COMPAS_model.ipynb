{
 "cells": [
  {
   "cell_type": "code",
   "execution_count": null,
   "metadata": {},
   "outputs": [],
   "source": [
    "import pandas as pd\n",
    "from sklearn.model_selection import train_test_split\n",
    "from sklearn.compose import ColumnTransformer\n",
    "from sklearn.preprocessing import OneHotEncoder\n",
    "from sklearn.pipeline import Pipeline\n",
    "from sklearn.preprocessing import StandardScaler\n",
    "from sklearn.tree import DecisionTreeClassifier\n",
    "import sys\n",
    "import shap\n",
    "import numpy as np\n",
    "import pandas as pd"
   ]
  },
  {
   "cell_type": "code",
   "execution_count": null,
   "metadata": {},
   "outputs": [],
   "source": [
    "df = pd.read_csv('https://github.com/jnin/information-systems/raw/main/data/compas_ai2.csv')\n",
    "\n",
    "df['Severity'] = df['DecileScore'] > df['DecileScore'].median()\n",
    "df.drop(columns = ['DecileScore'], inplace=True)\n",
    "\n",
    "X = df.drop(columns=[\"Severity\"])\n",
    "y = df['Severity']\n",
    "\n",
    "X_train, X_test, y_train, y_test = train_test_split(X, y, test_size=0.1, random_state=42)\n",
    "\n",
    "numerical_features = ['YearOfBirth', 'RecSupervisionLevel']\n",
    "\n",
    "categorical_features = ['Agency','Gender','Ethnic','ScaleSet','LegalStatus','CustodyStatus',\n",
    "                        'MaritalStatus','DisplayText']"
   ]
  },
  {
   "cell_type": "code",
   "execution_count": null,
   "metadata": {},
   "outputs": [],
   "source": [
    "ohe = OneHotEncoder(sparse=False)\n",
    "\n",
    "preprocessing_steps = [('transformed', ohe, categorical_features)]\n",
    "\n",
    "transformer = ColumnTransformer(preprocessing_steps, remainder = 'passthrough')\n",
    "\n",
    "pipeline_steps = [('preprocess', transformer),\n",
    "                  ('scaler', StandardScaler()),\n",
    "                  ('DT', DecisionTreeClassifier(random_state = 42))]\n",
    "\n",
    "pipeline_steps\n",
    "\n",
    "pipe = Pipeline(pipeline_steps)\n",
    "pipe.fit(X_train, y_train)"
   ]
  },
  {
   "cell_type": "code",
   "execution_count": null,
   "metadata": {},
   "outputs": [],
   "source": [
    "sample = pipe[0:2].transform(X_test)\n",
    "\n",
    "explainer = shap.TreeExplainer(pipe[-1])\n",
    "\n",
    "shap_values= explainer.shap_values(sample, approximate=True)\n",
    "\n",
    "shap_values"
   ]
  },
  {
   "cell_type": "code",
   "execution_count": null,
   "metadata": {},
   "outputs": [],
   "source": [
    "shap.initjs()\n",
    "shap.summary_plot(shap_values, feature_names=pipe[0].get_feature_names_out(), plot_type=\"bar\")"
   ]
  },
  {
   "cell_type": "code",
   "execution_count": null,
   "metadata": {},
   "outputs": [],
   "source": [
    "shap.initjs()\n",
    "shap.summary_plot(shap_values, feature_names=pipe[0].get_feature_names(), plot_type='bar')"
   ]
  },
  {
   "cell_type": "code",
   "execution_count": null,
   "metadata": {},
   "outputs": [],
   "source": [
    "privileged = (X_test[\"Ethnic\"] == \"Caucasian\")\n",
    "favoured = ~pipe.predict(X_test)"
   ]
  },
  {
   "cell_type": "code",
   "execution_count": null,
   "metadata": {},
   "outputs": [],
   "source": [
    "def compute_disparate_impact(privileged, favoured):\n",
    "    \n",
    "    pred_unfav = sum(~privileged * favoured) / sum(~privileged)\n",
    "    pred_fav = sum(privileged * favoured) / sum(privileged)\n",
    "    \n",
    "    return pred_unfav / pred_fav"
   ]
  },
  {
   "cell_type": "code",
   "execution_count": null,
   "metadata": {},
   "outputs": [],
   "source": [
    "compute_disparate_impact(privileged, favoured)"
   ]
  },
  {
   "cell_type": "code",
   "execution_count": null,
   "metadata": {},
   "outputs": [],
   "source": [
    "X_train_no_ethnic = X_train.drop(columns=[\"Ethnic\"])\n",
    "X_test_no_ethnic = X_test.drop(columns=[\"Ethnic\"])\n",
    "\n",
    "categorical_features_no_ethnic = ['Agency','Gender','ScaleSet','LegalStatus','CustodyStatus', 'MaritalStatus','DisplayText']"
   ]
  },
  {
   "cell_type": "code",
   "execution_count": null,
   "metadata": {},
   "outputs": [],
   "source": [
    "ohe = OneHotEncoder(sparse=False)\n",
    "\n",
    "preprocessing_steps = [('categorical_transformation_no_ethnic', ohe, categorical_features_no_ethnic)]\n",
    "\n",
    "transformer_no_ethnic = ColumnTransformer(preprocessing_steps, remainder = 'passthrough')\n",
    "\n",
    "pipeline_steps = [('preprocess', transformer_no_ethnic),\n",
    "                  ('scaler', StandardScaler()),\n",
    "                  ('DT', DecisionTreeClassifier(random_state = 42))]\n",
    "\n",
    "pipe_no_ethnic = Pipeline(pipeline_steps)\n",
    "\n",
    "pipe_no_ethnic.fit(X_train_no_ethnic, y_train)"
   ]
  },
  {
   "cell_type": "code",
   "execution_count": null,
   "metadata": {},
   "outputs": [],
   "source": [
    "def compute_score_di(pipe, X_test, y_test, privileged_test):\n",
    "\n",
    "    score = pipe.score(X_test, y_test)\n",
    "    di = compute_disparate_impact(privileged_test, ~pipe.predict(X_test))\n",
    "    \n",
    "    return score, di"
   ]
  },
  {
   "cell_type": "code",
   "execution_count": null,
   "metadata": {},
   "outputs": [],
   "source": [
    "privileged = X_test[\"Ethnic\"] == \"Caucasian\"\n",
    "\n",
    "score_no_ethnic, di_no_ethnic = compute_score_di(pipe_no_ethnic, X_test_no_ethnic, y_test, privileged)"
   ]
  },
  {
   "cell_type": "code",
   "execution_count": null,
   "metadata": {},
   "outputs": [],
   "source": [
    "print(score_no_ethnic), print(di_no_ethnic)"
   ]
  },
  {
   "cell_type": "code",
   "execution_count": null,
   "metadata": {},
   "outputs": [],
   "source": [
    "def compute_reweighting_weights(privileged, favoured):\n",
    "    \n",
    "    w_p_fav = (sum(favoured) * sum(privileged)) / (len(favoured) * sum(favoured * privileged))\n",
    "    \n",
    "    w_p_unfav = (sum(~favoured) * sum(privileged)) / (len(favoured) * sum(~favoured * privileged))\n",
    "    \n",
    "    w_up_fav = (sum(favoured) * sum(~privileged)) / (len(favoured) * sum(favoured * ~privileged))\n",
    "    \n",
    "    w_up_unfav = (sum(~favoured) * sum(~privileged)) / (len(favoured) * sum(~favoured * ~privileged))\n",
    "    \n",
    "    weights = {\"w_p_fav\": w_p_fav, \"w_p_unfav\": w_p_unfav, \"w_up_fav\": w_up_fav, \"w_up_unfav\": w_up_unfav}\n",
    "    \n",
    "    return weights"
   ]
  },
  {
   "cell_type": "code",
   "execution_count": null,
   "metadata": {},
   "outputs": [],
   "source": [
    "favoured = ~pipe.predict(X_test)\n",
    "privileged = X_test[\"Ethnic\"] == \"Caucasian\""
   ]
  },
  {
   "cell_type": "code",
   "execution_count": null,
   "metadata": {},
   "outputs": [],
   "source": [
    "compute_reweighting_weights(privileged, favoured)"
   ]
  },
  {
   "cell_type": "code",
   "execution_count": null,
   "metadata": {},
   "outputs": [],
   "source": [
    "def generate_sample_weight(privileged, favoured, w_p_fav, w_p_unfav, w_up_fav, w_up_unfav):\n",
    "    \n",
    "    condlist = [(privileged == 1) & (favoured == 1), (privileged == 1) & (favoured == 0),\n",
    "                (privileged == 0) & (favoured == 1), (privileged == 0) & (favoured == 0)]\n",
    "    \n",
    "    choicelist = [w_p_fav,w_p_unfav,w_up_fav,w_up_unfav]\n",
    "    \n",
    "    return np.select(condlist,choicelist)"
   ]
  },
  {
   "cell_type": "code",
   "execution_count": null,
   "metadata": {},
   "outputs": [],
   "source": [
    "favoured = ~pipe.predict(X_test)\n",
    "privileged = X_test['Ethnic'] == 'Caucasian'"
   ]
  },
  {
   "cell_type": "code",
   "execution_count": null,
   "metadata": {},
   "outputs": [],
   "source": [
    "weights = compute_reweighting_weights(privileged, favoured)\n",
    "weights"
   ]
  },
  {
   "cell_type": "code",
   "execution_count": null,
   "metadata": {},
   "outputs": [],
   "source": [
    "test = generate_sample_weight(privileged, \n",
    "                       favoured, \n",
    "                       weights['w_p_fav'], \n",
    "                       weights['w_p_unfav'], \n",
    "                       weights['w_up_fav'], \n",
    "                       weights['w_up_unfav'])\n",
    "test"
   ]
  },
  {
   "cell_type": "code",
   "execution_count": null,
   "metadata": {},
   "outputs": [],
   "source": [
    "def apply_reweighting(pipe, X_train, y_train, privileged_train, favoured_train, X_test, y_test, privileged_test):\n",
    "    \n",
    "    weights = compute_reweighting_weights(privileged_train, favoured_train)\n",
    "    \n",
    "    w_p_fav = weights['w_p_fav']\n",
    "    w_p_unfav = weights['w_p_unfav']\n",
    "    w_up_fav = weights['w_up_fav']\n",
    "    w_up_unfav = weights['w_up_unfav']\n",
    "    \n",
    "    w_train = generate_sample_weight(privileged_train, favoured_train, w_p_fav, w_p_unfav, w_up_fav, w_up_unfav)\n",
    "    pipe.fit(X_train, y_train, DT__sample_weight = w_train)\n",
    "    \n",
    "    return compute_score_di(pipe, X_test, y_test, privileged_test)"
   ]
  },
  {
   "cell_type": "code",
   "execution_count": null,
   "metadata": {},
   "outputs": [],
   "source": [
    "score_rw, di_rw = apply_reweighting(pipe, X_train, y_train, X_train['Ethnic'] == 'Caucasian',\n",
    "                                   y_train == False, X_test, y_test, X_test['Ethnic'] == 'Caucasian')\n",
    "\n",
    "print(score_rw, di_rw)"
   ]
  },
  {
   "cell_type": "code",
   "execution_count": null,
   "metadata": {},
   "outputs": [],
   "source": []
  },
  {
   "cell_type": "code",
   "execution_count": null,
   "metadata": {},
   "outputs": [],
   "source": []
  },
  {
   "cell_type": "code",
   "execution_count": null,
   "metadata": {},
   "outputs": [],
   "source": []
  },
  {
   "cell_type": "code",
   "execution_count": null,
   "metadata": {},
   "outputs": [],
   "source": []
  }
 ],
 "metadata": {
  "kernelspec": {
   "display_name": "Python 3",
   "language": "python",
   "name": "python3"
  },
  "language_info": {
   "codemirror_mode": {
    "name": "ipython",
    "version": 3
   },
   "file_extension": ".py",
   "mimetype": "text/x-python",
   "name": "python",
   "nbconvert_exporter": "python",
   "pygments_lexer": "ipython3",
   "version": "3.8.3"
  },
  "toc": {
   "base_numbering": 1,
   "nav_menu": {},
   "number_sections": true,
   "sideBar": true,
   "skip_h1_title": false,
   "title_cell": "Table of Contents",
   "title_sidebar": "Contents",
   "toc_cell": false,
   "toc_position": {},
   "toc_section_display": true,
   "toc_window_display": false
  },
  "varInspector": {
   "cols": {
    "lenName": 16,
    "lenType": 16,
    "lenVar": 40
   },
   "kernels_config": {
    "python": {
     "delete_cmd_postfix": "",
     "delete_cmd_prefix": "del ",
     "library": "var_list.py",
     "varRefreshCmd": "print(var_dic_list())"
    },
    "r": {
     "delete_cmd_postfix": ") ",
     "delete_cmd_prefix": "rm(",
     "library": "var_list.r",
     "varRefreshCmd": "cat(var_dic_list()) "
    }
   },
   "types_to_exclude": [
    "module",
    "function",
    "builtin_function_or_method",
    "instance",
    "_Feature"
   ],
   "window_display": false
  }
 },
 "nbformat": 4,
 "nbformat_minor": 4
}
