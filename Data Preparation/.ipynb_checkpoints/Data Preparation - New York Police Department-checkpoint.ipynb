{
 "cells": [
  {
   "cell_type": "markdown",
   "metadata": {},
   "source": [
    "# Data Preparation"
   ]
  },
  {
   "cell_type": "code",
   "execution_count": 1,
   "metadata": {},
   "outputs": [],
   "source": [
    "import pandas as pd\n",
    "import requests\n",
    "from io import BytesIO\n",
    "from zipfile import ZipFile"
   ]
  },
  {
   "cell_type": "markdown",
   "metadata": {},
   "source": [
    "## Collecting Data"
   ]
  },
  {
   "cell_type": "markdown",
   "metadata": {},
   "source": [
    "First, we need to download, inspect and prepare the data of the NYPD Stop, Question, and Frisk database are available for download at the following link: https://www1.nyc.gov/site/nypd/stats/reports-analysis/stopfrisk.page"
   ]
  },
  {
   "cell_type": "code",
   "execution_count": 2,
   "metadata": {},
   "outputs": [],
   "source": [
    "links = ['https://www1.nyc.gov/assets/nypd/downloads/zip/analysis_and_planning/stop-question-frisk/sqf-2003-csv.zip',\n",
    "         'https://www1.nyc.gov/assets/nypd/downloads/zip/analysis_and_planning/stop-question-frisk/sqf-2004-csv.zip',\n",
    "         'https://www1.nyc.gov/assets/nypd/downloads/zip/analysis_and_planning/stop-question-frisk/sqf-2005-csv.zip',\n",
    "         'https://www1.nyc.gov/assets/nypd/downloads/zip/analysis_and_planning/stop-question-frisk/sqf-2006-csv.zip',\n",
    "         'https://www1.nyc.gov/assets/nypd/downloads/zip/analysis_and_planning/stop-question-frisk/sqf-2007-csv.zip',\n",
    "         'https://www1.nyc.gov/assets/nypd/downloads/zip/analysis_and_planning/stop-question-frisk/sqf-2008-csv.zip',\n",
    "         'https://www1.nyc.gov/assets/nypd/downloads/zip/analysis_and_planning/stop-question-frisk/sqf-2009-csv.zip',\n",
    "         'https://www1.nyc.gov/assets/nypd/downloads/zip/analysis_and_planning/stop-question-frisk/sqf-2010-csv.zip',\n",
    "         'https://www1.nyc.gov/assets/nypd/downloads/zip/analysis_and_planning/stop-question-frisk/sqf-2011-csv.zip']"
   ]
  },
  {
   "cell_type": "code",
   "execution_count": null,
   "metadata": {},
   "outputs": [],
   "source": [
    "df = pd.DataFrame()\n",
    "\n",
    "for link in links:\n",
    "    response = requests.get(link)\n",
    "    zipfile = ZipFile(BytesIO(response.content))\n",
    "    extracted_file = zipfile.open(zipfile.namelist()[0])\n",
    "    \n",
    "    df_for_year = pd.read_csv(extracted_file, encoding='latin-1', low_memory = False)\n",
    "    \n",
    "    df = pd.concat([df, df_for_year])\n",
    "\n",
    "df = df.reset_index(drop = True)"
   ]
  },
  {
   "cell_type": "markdown",
   "metadata": {},
   "source": [
    "## Understanding the data"
   ]
  },
  {
   "cell_type": "markdown",
   "metadata": {},
   "source": [
    "For some terms, we need several code books and create a legend for our database."
   ]
  },
  {
   "cell_type": "code",
   "execution_count": null,
   "metadata": {},
   "outputs": [],
   "source": [
    "response = requests.get('https://www1.nyc.gov/assets/nypd/downloads/zip/analysis_and_planning/stop-question-frisk/SQF-File-Documentation.zip')\n",
    "zipfile = ZipFile(BytesIO(response.content))\n",
    "\n",
    "legend_files = zipfile.namelist()\n",
    "legend_files"
   ]
  },
  {
   "cell_type": "markdown",
   "metadata": {},
   "source": [
    "As the length of the data frams are diffeent, read the code book spreadsheets for all the years in the considered period and store the unique values in a single DataFrame. We only need Variable (the names of the columns) and Label (the descriptions for the different column names)."
   ]
  },
  {
   "cell_type": "code",
   "execution_count": null,
   "metadata": {},
   "outputs": [],
   "source": [
    "legend = pd.DataFrame()\n",
    "\n",
    "for i in legend_files[1:10]:\n",
    "    extract = zipfile.open(i)\n",
    "    legend_current = pd.read_excel(extract, skiprows=3, usecols=['Variable', 'Label'])\n",
    "    legend = pd.concat([legend, legend_current]).drop_duplicates()\n",
    "    \n",
    "legend.reset_index(drop=True, inplace=True)\n",
    "legend"
   ]
  },
  {
   "cell_type": "markdown",
   "metadata": {},
   "source": [
    "Now, we need to identify the columns from df that are not included in the code books and rename them to eliminate duplicates"
   ]
  },
  {
   "cell_type": "code",
   "execution_count": null,
   "metadata": {},
   "outputs": [],
   "source": [
    "legends_list = legend['Variable'].tolist()"
   ]
  },
  {
   "cell_type": "code",
   "execution_count": null,
   "metadata": {},
   "outputs": [],
   "source": [
    "typos = []\n",
    "no_typos = []\n",
    "columns = df.columns\n",
    "\n",
    "for i in columns:\n",
    "    if i in legends_list:\n",
    "        no_typos.append(i)\n",
    "    else:\n",
    "        typos.append(i)"
   ]
  },
  {
   "cell_type": "code",
   "execution_count": null,
   "metadata": {},
   "outputs": [],
   "source": [
    "df.rename(columns={'dettypcm': 'dettypCM', \n",
    "                   'linecm': 'lineCM',\n",
    "                   'detailcm': 'detailCM',\n",
    "                   'wepfound': 'othrweap',\n",
    "                   'dettyp_c': 'dettypCM',\n",
    "                   'details_': 'detailCM',\n",
    "                   'detail1_': 'detailCM',\n",
    "                   'rescod': 'rescode',\n",
    "                   'premtyp': 'premtype',\n",
    "                   'prenam': 'premname',\n",
    "                   'adrnum': 'addrnum',\n",
    "                   'strname': 'stname',\n",
    "                   'strintr': 'stinter',\n",
    "                   'adrpct': 'addrpct'}, inplace=True)"
   ]
  },
  {
   "cell_type": "code",
   "execution_count": null,
   "metadata": {},
   "outputs": [],
   "source": [
    "def aggregated_list(merged):\n",
    "    return [list(filter(lambda x: x != 'nan', col))[0] for col in merged]"
   ]
  },
  {
   "cell_type": "code",
   "execution_count": null,
   "metadata": {},
   "outputs": [],
   "source": [
    "df = df.groupby(level=0, axis =1).agg(lambda x: aggregated_list(x.values))"
   ]
  },
  {
   "cell_type": "markdown",
   "metadata": {},
   "source": [
    "In order to include only interesting information, we drop all other columns"
   ]
  },
  {
   "cell_type": "code",
   "execution_count": null,
   "metadata": {},
   "outputs": [],
   "source": [
    "information = [\"YEAR OF STOP (CCYY)\", \"PRECINCT OF STOP (FROM 1 TO 123)\", \"DATE OF STOP (MM-DD-YYYY)\", \n",
    "               \"CRIME SUSPECTED\", \"WAS AN ARREST MADE ?\", \"PERIOD OF STOP (MMM)\",\n",
    "               \"WAS A SUMMONS ISSUED ?\", \"WAS A PISTOL FOUND ON SUSPECT ?\", \"WAS A RIFLE FOUND ON SUSPECT ?\", \n",
    "               \"WAS AN ASSAULT WEAPON FOUND ON SUSPECT ?\", \"WAS A KNIFE OR CUTTING INSTRUMENT FOUND ON SUSPECT ?\",\n",
    "               \"WAS A MACHINE GUN FOUND ON SUSPECT ?\",\"WAS ANOTHER TYPE OF WEAPON FOUND ON SUSPECT\", \n",
    "               \"PHYSICAL FORCE USED BY OFFICER - HANDS\", \"PHYSICAL FORCE USED BY OFFICER - SUSPECT AGAINST WALL\",\n",
    "               \"PHYSICAL FORCE USED BY OFFICER - SUSPECT ON GROUND\", \"PHYSICAL FORCE USED BY OFFICER - WEAPON DRAWN\",\n",
    "               \"PHYSICAL FORCE USED BY OFFICER - WEAPON POINTED\", \"PHYSICAL FORCE USED BY OFFICER - BATON\",\n",
    "               \"PHYSICAL FORCE USED BY OFFICER - HANDCUFFS\", \"PHYSICAL FORCE USED BY OFFICER - PEPPER SPRAY\",\n",
    "               \"PHYSICAL FORCE USED BY OFFICER - OTHER\", \"SUSPECT'S RACE\", \"SUSPECT'S SEX\"]"
   ]
  },
  {
   "cell_type": "code",
   "execution_count": null,
   "metadata": {},
   "outputs": [],
   "source": [
    "len(information)"
   ]
  },
  {
   "cell_type": "code",
   "execution_count": null,
   "metadata": {},
   "outputs": [],
   "source": [
    "columns_wanted = []\n",
    "\n",
    "for i in information:\n",
    "    x = legend.loc[legend.Label == i, 'Variable'].values[0]\n",
    "    columns_wanted.append(x)\n",
    "    \n",
    "print(len(columns_wanted))\n",
    "\n",
    "df = df.drop(df.columns.difference(columns_wanted), 1)"
   ]
  },
  {
   "cell_type": "markdown",
   "metadata": {},
   "source": [
    "## Enriching data"
   ]
  },
  {
   "cell_type": "markdown",
   "metadata": {},
   "source": [
    "The column pct encodes the precinct where each stop took place. Police units based in these precincts are responsible for safety and law enforcement within a designated geographic area. There are a total of 77 precincts in the city of New York, each identified with a number from 1 to 123. These precincts can be further aggregated into the 5 major boroughs of New York: Bronx, Brooklyn, Manhattan, Queens and Staten Island."
   ]
  },
  {
   "cell_type": "code",
   "execution_count": null,
   "metadata": {},
   "outputs": [],
   "source": [
    "df[\"pct\"] = df[\"pct\"].apply(pd.to_numeric, errors = \"coerce\")"
   ]
  },
  {
   "cell_type": "code",
   "execution_count": null,
   "metadata": {},
   "outputs": [],
   "source": [
    "df = df[df['pct'].notna()]\n",
    "\n",
    "df[\"pct\"] = df[\"pct\"].astype(int)\n",
    "\n",
    "df.reset_index(drop=True, inplace=True)"
   ]
  },
  {
   "cell_type": "code",
   "execution_count": null,
   "metadata": {},
   "outputs": [],
   "source": [
    "df[\"borough\"] = df[\"pct\"]\n",
    "\n",
    "def myfunc(pct):\n",
    "    try:\n",
    "        if pct<35:\n",
    "            pct = \"Manhattan\"\n",
    "        elif pct>35 and pct<55:\n",
    "            pct = \"Bronx\"\n",
    "        elif pct>55 and pct<95:\n",
    "            pct = \"Brooklyn\"\n",
    "        elif pct>95 and pct<119:\n",
    "            pct = \"Queens\"\n",
    "        elif pct>119 and pct<124:\n",
    "            pct = \"Staten Island\"\n",
    "        else:\n",
    "            pct = None\n",
    "        \n",
    "    except:\n",
    "        print(\"error\")\n",
    "    \n",
    "    return pct\n",
    "\n",
    "df[\"borough\"] = df[\"borough\"].apply(myfunc)\n",
    "\n",
    "df = df[df['borough'].notna()]\n",
    "\n",
    "df.reset_index(drop=True, inplace=True)"
   ]
  },
  {
   "cell_type": "markdown",
   "metadata": {},
   "source": [
    "Now let's create a new columns called physical_force, weapon and arrest"
   ]
  },
  {
   "cell_type": "code",
   "execution_count": null,
   "metadata": {},
   "outputs": [],
   "source": [
    "df[\"physical_force\"] = (df[['pf_hands', 'pf_wall', 'pf_grnd', 'pf_drwep', 'pf_ptwep',\n",
    "                            'pf_baton', 'pf_hcuff', 'pf_pepsp', 'pf_other',]]== 'Y').any(1).astype(int)\n",
    "\n",
    "df[\"weapon\"] = (df[['pistol','riflshot', 'asltweap',\n",
    "                    'knifcuti', 'machgun','othrweap']]== 'Y').any(1).astype(int)\n",
    "\n",
    "df[\"arrest\"] = (df[['arstmade','sumissue']]== \"Y\").any(1).astype(int)\n",
    "\n",
    "df.reset_index(drop=True, inplace=True)\n",
    "df"
   ]
  },
  {
   "cell_type": "markdown",
   "metadata": {},
   "source": [
    "Let's write the code to modify the values of your ethnicity column"
   ]
  },
  {
   "cell_type": "code",
   "execution_count": null,
   "metadata": {},
   "outputs": [],
   "source": [
    "def myfunc2(pct):\n",
    "    try:\n",
    "        if \"B\" in pct:\n",
    "            pct = \"Black\"\n",
    "        elif \"P\" in pct:\n",
    "            pct = \"Black\"\n",
    "        elif \"W\" in pct:\n",
    "            pct = \"White\"\n",
    "        elif \"Q\" in pct:\n",
    "            pct = \"White\"\n",
    "        elif \"A\" in pct:\n",
    "            pct = \"Asian\"\n",
    "        else:\n",
    "            pct = \"Other\"\n",
    "        return pct\n",
    "    except:\n",
    "        None\n",
    "        \n",
    "        \n",
    "df = df.rename(columns={'race': \"ethnicity\"})\n",
    "\n",
    "df[\"ethnicity\"] = df[\"ethnicity\"].apply(myfunc2)"
   ]
  },
  {
   "cell_type": "markdown",
   "metadata": {},
   "source": [
    "Let's remove all columns except year, pct, datestop, perstop, crimsusp, ethnicity, sex, borough, physical_force, weapon, and arrest"
   ]
  },
  {
   "cell_type": "code",
   "execution_count": null,
   "metadata": {},
   "outputs": [],
   "source": [
    "df.drop(df.columns.difference([\"year\", \"pct\", \"datestop\", \"perstop\", \"crimsusp\", \n",
    "                               \"ethnicity\", \"sex\", \"borough\", \"physical_force\", \"weapon\", \n",
    "                               \"arrest\"]), 1, inplace=True)"
   ]
  },
  {
   "cell_type": "markdown",
   "metadata": {},
   "source": [
    "last data perparation steps"
   ]
  },
  {
   "cell_type": "code",
   "execution_count": null,
   "metadata": {},
   "outputs": [],
   "source": [
    "def time(x):\n",
    "    if type(x) == str:\n",
    "        if len(x) == 7:\n",
    "            x = \"0\"+x\n",
    "        if \"-\" in x:\n",
    "            return pd.to_datetime(x, format = \"%Y-%m-%d\")\n",
    "        return pd.to_datetime(x, format = \"%m%d%Y\")\n",
    "    \n",
    "    elif type(x) == float:\n",
    "        x = str(int(x))\n",
    "        if len(x)==7:\n",
    "            x=\"0\"+x\n",
    "        \n",
    "        return (pd.to_datetime(x, format = \"%m%d%Y\"))\n",
    "    \n",
    "df[\"datestop\"] = df[\"datestop\"].apply(lambda x:time(x))"
   ]
  },
  {
   "cell_type": "markdown",
   "metadata": {},
   "source": [
    "## Small Overview of a first analyis"
   ]
  },
  {
   "cell_type": "code",
   "execution_count": null,
   "metadata": {},
   "outputs": [],
   "source": [
    "ethnicity_list = df.groupby(['ethnicity', 'sex']).size()\n",
    "\n",
    "distribution = {'Black': ethnicity_list['Black']['M'], 'White': ethnicity_list['White']['M'],\n",
    "                'Asian': ethnicity_list['Asian']['M'], 'Other': ethnicity_list['Other']['M']}"
   ]
  },
  {
   "cell_type": "code",
   "execution_count": null,
   "metadata": {},
   "outputs": [],
   "source": [
    "distribution"
   ]
  }
 ],
 "metadata": {
  "kernelspec": {
   "display_name": "Python 3",
   "language": "python",
   "name": "python3"
  },
  "language_info": {
   "codemirror_mode": {
    "name": "ipython",
    "version": 3
   },
   "file_extension": ".py",
   "mimetype": "text/x-python",
   "name": "python",
   "nbconvert_exporter": "python",
   "pygments_lexer": "ipython3",
   "version": "3.8.3"
  },
  "toc": {
   "base_numbering": 1,
   "nav_menu": {},
   "number_sections": true,
   "sideBar": true,
   "skip_h1_title": false,
   "title_cell": "Table of Contents",
   "title_sidebar": "Contents",
   "toc_cell": false,
   "toc_position": {},
   "toc_section_display": true,
   "toc_window_display": false
  },
  "varInspector": {
   "cols": {
    "lenName": 16,
    "lenType": 16,
    "lenVar": 40
   },
   "kernels_config": {
    "python": {
     "delete_cmd_postfix": "",
     "delete_cmd_prefix": "del ",
     "library": "var_list.py",
     "varRefreshCmd": "print(var_dic_list())"
    },
    "r": {
     "delete_cmd_postfix": ") ",
     "delete_cmd_prefix": "rm(",
     "library": "var_list.r",
     "varRefreshCmd": "cat(var_dic_list()) "
    }
   },
   "types_to_exclude": [
    "module",
    "function",
    "builtin_function_or_method",
    "instance",
    "_Feature"
   ],
   "window_display": false
  }
 },
 "nbformat": 4,
 "nbformat_minor": 4
}
