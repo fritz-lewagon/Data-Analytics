{
 "cells": [
  {
   "cell_type": "markdown",
   "metadata": {},
   "source": [
    "# Airbnb Web Scraping"
   ]
  },
  {
   "cell_type": "markdown",
   "metadata": {},
   "source": [
    "## Imports"
   ]
  },
  {
   "cell_type": "code",
   "execution_count": 5,
   "metadata": {},
   "outputs": [],
   "source": [
    "import requests\n",
    "import bs4\n",
    "import pandas as pd"
   ]
  },
  {
   "cell_type": "markdown",
   "metadata": {},
   "source": [
    "## Get HTML Code"
   ]
  },
  {
   "cell_type": "code",
   "execution_count": 6,
   "metadata": {},
   "outputs": [],
   "source": [
    "url = \"https://www.airbnb.com/s/Bali--Indonesia/homes?tab_id=home_tab&refinement_paths%5B%5D=%2Fhomes&flexible_trip_dates%5B%5D=november&flexible_trip_dates%5B%5D=october&flexible_trip_lengths%5B%5D=weekend_trip&date_picker_type=calendar&query=Bali%2C%20Indonesia&place_id=ChIJoQ8Q6NNB0S0RkOYkS7EPkSQ&checkin=2021-12-29&checkout=2022-01-03&source=structured_search_input_header&search_type=autocomplete_click\"\n",
    "base_url = \"https://airbnb.com\""
   ]
  },
  {
   "cell_type": "code",
   "execution_count": 7,
   "metadata": {},
   "outputs": [],
   "source": [
    "def get_page(url):\n",
    "    check = 'no'\n",
    "    while check == 'no':\n",
    "        response = requests.get(url)\n",
    "        soup = bs4.BeautifulSoup(response.text, 'html.parser')\n",
    "        if len(soup.find_all(class_= '_12oal24')) >= 1:\n",
    "            check = \"yes\"\n",
    "        \n",
    "    return soup"
   ]
  },
  {
   "cell_type": "code",
   "execution_count": 8,
   "metadata": {},
   "outputs": [
    {
     "ename": "KeyboardInterrupt",
     "evalue": "",
     "output_type": "error",
     "traceback": [
      "\u001b[0;31m---------------------------------------------------------------------------\u001b[0m",
      "\u001b[0;31mKeyboardInterrupt\u001b[0m                         Traceback (most recent call last)",
      "\u001b[0;32m<ipython-input-8-ab2e726586fe>\u001b[0m in \u001b[0;36m<module>\u001b[0;34m\u001b[0m\n\u001b[0;32m----> 1\u001b[0;31m \u001b[0mget_page\u001b[0m\u001b[0;34m(\u001b[0m\u001b[0murl\u001b[0m\u001b[0;34m)\u001b[0m\u001b[0;34m\u001b[0m\u001b[0;34m\u001b[0m\u001b[0m\n\u001b[0m",
      "\u001b[0;32m<ipython-input-7-aaa469d807c9>\u001b[0m in \u001b[0;36mget_page\u001b[0;34m(url)\u001b[0m\n\u001b[1;32m      2\u001b[0m     \u001b[0mcheck\u001b[0m \u001b[0;34m=\u001b[0m \u001b[0;34m'no'\u001b[0m\u001b[0;34m\u001b[0m\u001b[0;34m\u001b[0m\u001b[0m\n\u001b[1;32m      3\u001b[0m     \u001b[0;32mwhile\u001b[0m \u001b[0mcheck\u001b[0m \u001b[0;34m==\u001b[0m \u001b[0;34m'no'\u001b[0m\u001b[0;34m:\u001b[0m\u001b[0;34m\u001b[0m\u001b[0;34m\u001b[0m\u001b[0m\n\u001b[0;32m----> 4\u001b[0;31m         \u001b[0mresponse\u001b[0m \u001b[0;34m=\u001b[0m \u001b[0mrequests\u001b[0m\u001b[0;34m.\u001b[0m\u001b[0mget\u001b[0m\u001b[0;34m(\u001b[0m\u001b[0murl\u001b[0m\u001b[0;34m)\u001b[0m\u001b[0;34m\u001b[0m\u001b[0;34m\u001b[0m\u001b[0m\n\u001b[0m\u001b[1;32m      5\u001b[0m         \u001b[0msoup\u001b[0m \u001b[0;34m=\u001b[0m \u001b[0mbs4\u001b[0m\u001b[0;34m.\u001b[0m\u001b[0mBeautifulSoup\u001b[0m\u001b[0;34m(\u001b[0m\u001b[0mresponse\u001b[0m\u001b[0;34m.\u001b[0m\u001b[0mtext\u001b[0m\u001b[0;34m,\u001b[0m \u001b[0;34m'html.parser'\u001b[0m\u001b[0;34m)\u001b[0m\u001b[0;34m\u001b[0m\u001b[0;34m\u001b[0m\u001b[0m\n\u001b[1;32m      6\u001b[0m         \u001b[0;32mif\u001b[0m \u001b[0mlen\u001b[0m\u001b[0;34m(\u001b[0m\u001b[0msoup\u001b[0m\u001b[0;34m.\u001b[0m\u001b[0mfind_all\u001b[0m\u001b[0;34m(\u001b[0m\u001b[0mclass_\u001b[0m\u001b[0;34m=\u001b[0m \u001b[0;34m'_12oal24'\u001b[0m\u001b[0;34m)\u001b[0m\u001b[0;34m)\u001b[0m \u001b[0;34m>=\u001b[0m \u001b[0;36m1\u001b[0m\u001b[0;34m:\u001b[0m\u001b[0;34m\u001b[0m\u001b[0;34m\u001b[0m\u001b[0m\n",
      "\u001b[0;32m~/opt/anaconda3/lib/python3.8/site-packages/requests/api.py\u001b[0m in \u001b[0;36mget\u001b[0;34m(url, params, **kwargs)\u001b[0m\n\u001b[1;32m     74\u001b[0m \u001b[0;34m\u001b[0m\u001b[0m\n\u001b[1;32m     75\u001b[0m     \u001b[0mkwargs\u001b[0m\u001b[0;34m.\u001b[0m\u001b[0msetdefault\u001b[0m\u001b[0;34m(\u001b[0m\u001b[0;34m'allow_redirects'\u001b[0m\u001b[0;34m,\u001b[0m \u001b[0;32mTrue\u001b[0m\u001b[0;34m)\u001b[0m\u001b[0;34m\u001b[0m\u001b[0;34m\u001b[0m\u001b[0m\n\u001b[0;32m---> 76\u001b[0;31m     \u001b[0;32mreturn\u001b[0m \u001b[0mrequest\u001b[0m\u001b[0;34m(\u001b[0m\u001b[0;34m'get'\u001b[0m\u001b[0;34m,\u001b[0m \u001b[0murl\u001b[0m\u001b[0;34m,\u001b[0m \u001b[0mparams\u001b[0m\u001b[0;34m=\u001b[0m\u001b[0mparams\u001b[0m\u001b[0;34m,\u001b[0m \u001b[0;34m**\u001b[0m\u001b[0mkwargs\u001b[0m\u001b[0;34m)\u001b[0m\u001b[0;34m\u001b[0m\u001b[0;34m\u001b[0m\u001b[0m\n\u001b[0m\u001b[1;32m     77\u001b[0m \u001b[0;34m\u001b[0m\u001b[0m\n\u001b[1;32m     78\u001b[0m \u001b[0;34m\u001b[0m\u001b[0m\n",
      "\u001b[0;32m~/opt/anaconda3/lib/python3.8/site-packages/requests/api.py\u001b[0m in \u001b[0;36mrequest\u001b[0;34m(method, url, **kwargs)\u001b[0m\n\u001b[1;32m     59\u001b[0m     \u001b[0;31m# cases, and look like a memory leak in others.\u001b[0m\u001b[0;34m\u001b[0m\u001b[0;34m\u001b[0m\u001b[0;34m\u001b[0m\u001b[0m\n\u001b[1;32m     60\u001b[0m     \u001b[0;32mwith\u001b[0m \u001b[0msessions\u001b[0m\u001b[0;34m.\u001b[0m\u001b[0mSession\u001b[0m\u001b[0;34m(\u001b[0m\u001b[0;34m)\u001b[0m \u001b[0;32mas\u001b[0m \u001b[0msession\u001b[0m\u001b[0;34m:\u001b[0m\u001b[0;34m\u001b[0m\u001b[0;34m\u001b[0m\u001b[0m\n\u001b[0;32m---> 61\u001b[0;31m         \u001b[0;32mreturn\u001b[0m \u001b[0msession\u001b[0m\u001b[0;34m.\u001b[0m\u001b[0mrequest\u001b[0m\u001b[0;34m(\u001b[0m\u001b[0mmethod\u001b[0m\u001b[0;34m=\u001b[0m\u001b[0mmethod\u001b[0m\u001b[0;34m,\u001b[0m \u001b[0murl\u001b[0m\u001b[0;34m=\u001b[0m\u001b[0murl\u001b[0m\u001b[0;34m,\u001b[0m \u001b[0;34m**\u001b[0m\u001b[0mkwargs\u001b[0m\u001b[0;34m)\u001b[0m\u001b[0;34m\u001b[0m\u001b[0;34m\u001b[0m\u001b[0m\n\u001b[0m\u001b[1;32m     62\u001b[0m \u001b[0;34m\u001b[0m\u001b[0m\n\u001b[1;32m     63\u001b[0m \u001b[0;34m\u001b[0m\u001b[0m\n",
      "\u001b[0;32m~/opt/anaconda3/lib/python3.8/site-packages/requests/sessions.py\u001b[0m in \u001b[0;36mrequest\u001b[0;34m(self, method, url, params, data, headers, cookies, files, auth, timeout, allow_redirects, proxies, hooks, stream, verify, cert, json)\u001b[0m\n\u001b[1;32m    528\u001b[0m         }\n\u001b[1;32m    529\u001b[0m         \u001b[0msend_kwargs\u001b[0m\u001b[0;34m.\u001b[0m\u001b[0mupdate\u001b[0m\u001b[0;34m(\u001b[0m\u001b[0msettings\u001b[0m\u001b[0;34m)\u001b[0m\u001b[0;34m\u001b[0m\u001b[0;34m\u001b[0m\u001b[0m\n\u001b[0;32m--> 530\u001b[0;31m         \u001b[0mresp\u001b[0m \u001b[0;34m=\u001b[0m \u001b[0mself\u001b[0m\u001b[0;34m.\u001b[0m\u001b[0msend\u001b[0m\u001b[0;34m(\u001b[0m\u001b[0mprep\u001b[0m\u001b[0;34m,\u001b[0m \u001b[0;34m**\u001b[0m\u001b[0msend_kwargs\u001b[0m\u001b[0;34m)\u001b[0m\u001b[0;34m\u001b[0m\u001b[0;34m\u001b[0m\u001b[0m\n\u001b[0m\u001b[1;32m    531\u001b[0m \u001b[0;34m\u001b[0m\u001b[0m\n\u001b[1;32m    532\u001b[0m         \u001b[0;32mreturn\u001b[0m \u001b[0mresp\u001b[0m\u001b[0;34m\u001b[0m\u001b[0;34m\u001b[0m\u001b[0m\n",
      "\u001b[0;32m~/opt/anaconda3/lib/python3.8/site-packages/requests/sessions.py\u001b[0m in \u001b[0;36msend\u001b[0;34m(self, request, **kwargs)\u001b[0m\n\u001b[1;32m    683\u001b[0m \u001b[0;34m\u001b[0m\u001b[0m\n\u001b[1;32m    684\u001b[0m         \u001b[0;32mif\u001b[0m \u001b[0;32mnot\u001b[0m \u001b[0mstream\u001b[0m\u001b[0;34m:\u001b[0m\u001b[0;34m\u001b[0m\u001b[0;34m\u001b[0m\u001b[0m\n\u001b[0;32m--> 685\u001b[0;31m             \u001b[0mr\u001b[0m\u001b[0;34m.\u001b[0m\u001b[0mcontent\u001b[0m\u001b[0;34m\u001b[0m\u001b[0;34m\u001b[0m\u001b[0m\n\u001b[0m\u001b[1;32m    686\u001b[0m \u001b[0;34m\u001b[0m\u001b[0m\n\u001b[1;32m    687\u001b[0m         \u001b[0;32mreturn\u001b[0m \u001b[0mr\u001b[0m\u001b[0;34m\u001b[0m\u001b[0;34m\u001b[0m\u001b[0m\n",
      "\u001b[0;32m~/opt/anaconda3/lib/python3.8/site-packages/requests/models.py\u001b[0m in \u001b[0;36mcontent\u001b[0;34m(self)\u001b[0m\n\u001b[1;32m    827\u001b[0m                 \u001b[0mself\u001b[0m\u001b[0;34m.\u001b[0m\u001b[0m_content\u001b[0m \u001b[0;34m=\u001b[0m \u001b[0;32mNone\u001b[0m\u001b[0;34m\u001b[0m\u001b[0;34m\u001b[0m\u001b[0m\n\u001b[1;32m    828\u001b[0m             \u001b[0;32melse\u001b[0m\u001b[0;34m:\u001b[0m\u001b[0;34m\u001b[0m\u001b[0;34m\u001b[0m\u001b[0m\n\u001b[0;32m--> 829\u001b[0;31m                 \u001b[0mself\u001b[0m\u001b[0;34m.\u001b[0m\u001b[0m_content\u001b[0m \u001b[0;34m=\u001b[0m \u001b[0;34mb''\u001b[0m\u001b[0;34m.\u001b[0m\u001b[0mjoin\u001b[0m\u001b[0;34m(\u001b[0m\u001b[0mself\u001b[0m\u001b[0;34m.\u001b[0m\u001b[0miter_content\u001b[0m\u001b[0;34m(\u001b[0m\u001b[0mCONTENT_CHUNK_SIZE\u001b[0m\u001b[0;34m)\u001b[0m\u001b[0;34m)\u001b[0m \u001b[0;32mor\u001b[0m \u001b[0;34mb''\u001b[0m\u001b[0;34m\u001b[0m\u001b[0;34m\u001b[0m\u001b[0m\n\u001b[0m\u001b[1;32m    830\u001b[0m \u001b[0;34m\u001b[0m\u001b[0m\n\u001b[1;32m    831\u001b[0m         \u001b[0mself\u001b[0m\u001b[0;34m.\u001b[0m\u001b[0m_content_consumed\u001b[0m \u001b[0;34m=\u001b[0m \u001b[0;32mTrue\u001b[0m\u001b[0;34m\u001b[0m\u001b[0;34m\u001b[0m\u001b[0m\n",
      "\u001b[0;32m~/opt/anaconda3/lib/python3.8/site-packages/requests/models.py\u001b[0m in \u001b[0;36mgenerate\u001b[0;34m()\u001b[0m\n\u001b[1;32m    749\u001b[0m             \u001b[0;32mif\u001b[0m \u001b[0mhasattr\u001b[0m\u001b[0;34m(\u001b[0m\u001b[0mself\u001b[0m\u001b[0;34m.\u001b[0m\u001b[0mraw\u001b[0m\u001b[0;34m,\u001b[0m \u001b[0;34m'stream'\u001b[0m\u001b[0;34m)\u001b[0m\u001b[0;34m:\u001b[0m\u001b[0;34m\u001b[0m\u001b[0;34m\u001b[0m\u001b[0m\n\u001b[1;32m    750\u001b[0m                 \u001b[0;32mtry\u001b[0m\u001b[0;34m:\u001b[0m\u001b[0;34m\u001b[0m\u001b[0;34m\u001b[0m\u001b[0m\n\u001b[0;32m--> 751\u001b[0;31m                     \u001b[0;32mfor\u001b[0m \u001b[0mchunk\u001b[0m \u001b[0;32min\u001b[0m \u001b[0mself\u001b[0m\u001b[0;34m.\u001b[0m\u001b[0mraw\u001b[0m\u001b[0;34m.\u001b[0m\u001b[0mstream\u001b[0m\u001b[0;34m(\u001b[0m\u001b[0mchunk_size\u001b[0m\u001b[0;34m,\u001b[0m \u001b[0mdecode_content\u001b[0m\u001b[0;34m=\u001b[0m\u001b[0;32mTrue\u001b[0m\u001b[0;34m)\u001b[0m\u001b[0;34m:\u001b[0m\u001b[0;34m\u001b[0m\u001b[0;34m\u001b[0m\u001b[0m\n\u001b[0m\u001b[1;32m    752\u001b[0m                         \u001b[0;32myield\u001b[0m \u001b[0mchunk\u001b[0m\u001b[0;34m\u001b[0m\u001b[0;34m\u001b[0m\u001b[0m\n\u001b[1;32m    753\u001b[0m                 \u001b[0;32mexcept\u001b[0m \u001b[0mProtocolError\u001b[0m \u001b[0;32mas\u001b[0m \u001b[0me\u001b[0m\u001b[0;34m:\u001b[0m\u001b[0;34m\u001b[0m\u001b[0;34m\u001b[0m\u001b[0m\n",
      "\u001b[0;32m~/opt/anaconda3/lib/python3.8/site-packages/urllib3/response.py\u001b[0m in \u001b[0;36mstream\u001b[0;34m(self, amt, decode_content)\u001b[0m\n\u001b[1;32m    570\u001b[0m         \"\"\"\n\u001b[1;32m    571\u001b[0m         \u001b[0;32mif\u001b[0m \u001b[0mself\u001b[0m\u001b[0;34m.\u001b[0m\u001b[0mchunked\u001b[0m \u001b[0;32mand\u001b[0m \u001b[0mself\u001b[0m\u001b[0;34m.\u001b[0m\u001b[0msupports_chunked_reads\u001b[0m\u001b[0;34m(\u001b[0m\u001b[0;34m)\u001b[0m\u001b[0;34m:\u001b[0m\u001b[0;34m\u001b[0m\u001b[0;34m\u001b[0m\u001b[0m\n\u001b[0;32m--> 572\u001b[0;31m             \u001b[0;32mfor\u001b[0m \u001b[0mline\u001b[0m \u001b[0;32min\u001b[0m \u001b[0mself\u001b[0m\u001b[0;34m.\u001b[0m\u001b[0mread_chunked\u001b[0m\u001b[0;34m(\u001b[0m\u001b[0mamt\u001b[0m\u001b[0;34m,\u001b[0m \u001b[0mdecode_content\u001b[0m\u001b[0;34m=\u001b[0m\u001b[0mdecode_content\u001b[0m\u001b[0;34m)\u001b[0m\u001b[0;34m:\u001b[0m\u001b[0;34m\u001b[0m\u001b[0;34m\u001b[0m\u001b[0m\n\u001b[0m\u001b[1;32m    573\u001b[0m                 \u001b[0;32myield\u001b[0m \u001b[0mline\u001b[0m\u001b[0;34m\u001b[0m\u001b[0;34m\u001b[0m\u001b[0m\n\u001b[1;32m    574\u001b[0m         \u001b[0;32melse\u001b[0m\u001b[0;34m:\u001b[0m\u001b[0;34m\u001b[0m\u001b[0;34m\u001b[0m\u001b[0m\n",
      "\u001b[0;32m~/opt/anaconda3/lib/python3.8/site-packages/urllib3/response.py\u001b[0m in \u001b[0;36mread_chunked\u001b[0;34m(self, amt, decode_content)\u001b[0m\n\u001b[1;32m    762\u001b[0m \u001b[0;34m\u001b[0m\u001b[0m\n\u001b[1;32m    763\u001b[0m             \u001b[0;32mwhile\u001b[0m \u001b[0;32mTrue\u001b[0m\u001b[0;34m:\u001b[0m\u001b[0;34m\u001b[0m\u001b[0;34m\u001b[0m\u001b[0m\n\u001b[0;32m--> 764\u001b[0;31m                 \u001b[0mself\u001b[0m\u001b[0;34m.\u001b[0m\u001b[0m_update_chunk_length\u001b[0m\u001b[0;34m(\u001b[0m\u001b[0;34m)\u001b[0m\u001b[0;34m\u001b[0m\u001b[0;34m\u001b[0m\u001b[0m\n\u001b[0m\u001b[1;32m    765\u001b[0m                 \u001b[0;32mif\u001b[0m \u001b[0mself\u001b[0m\u001b[0;34m.\u001b[0m\u001b[0mchunk_left\u001b[0m \u001b[0;34m==\u001b[0m \u001b[0;36m0\u001b[0m\u001b[0;34m:\u001b[0m\u001b[0;34m\u001b[0m\u001b[0;34m\u001b[0m\u001b[0m\n\u001b[1;32m    766\u001b[0m                     \u001b[0;32mbreak\u001b[0m\u001b[0;34m\u001b[0m\u001b[0;34m\u001b[0m\u001b[0m\n",
      "\u001b[0;32m~/opt/anaconda3/lib/python3.8/site-packages/urllib3/response.py\u001b[0m in \u001b[0;36m_update_chunk_length\u001b[0;34m(self)\u001b[0m\n\u001b[1;32m    692\u001b[0m         \u001b[0;32mif\u001b[0m \u001b[0mself\u001b[0m\u001b[0;34m.\u001b[0m\u001b[0mchunk_left\u001b[0m \u001b[0;32mis\u001b[0m \u001b[0;32mnot\u001b[0m \u001b[0;32mNone\u001b[0m\u001b[0;34m:\u001b[0m\u001b[0;34m\u001b[0m\u001b[0;34m\u001b[0m\u001b[0m\n\u001b[1;32m    693\u001b[0m             \u001b[0;32mreturn\u001b[0m\u001b[0;34m\u001b[0m\u001b[0;34m\u001b[0m\u001b[0m\n\u001b[0;32m--> 694\u001b[0;31m         \u001b[0mline\u001b[0m \u001b[0;34m=\u001b[0m \u001b[0mself\u001b[0m\u001b[0;34m.\u001b[0m\u001b[0m_fp\u001b[0m\u001b[0;34m.\u001b[0m\u001b[0mfp\u001b[0m\u001b[0;34m.\u001b[0m\u001b[0mreadline\u001b[0m\u001b[0;34m(\u001b[0m\u001b[0;34m)\u001b[0m\u001b[0;34m\u001b[0m\u001b[0;34m\u001b[0m\u001b[0m\n\u001b[0m\u001b[1;32m    695\u001b[0m         \u001b[0mline\u001b[0m \u001b[0;34m=\u001b[0m \u001b[0mline\u001b[0m\u001b[0;34m.\u001b[0m\u001b[0msplit\u001b[0m\u001b[0;34m(\u001b[0m\u001b[0;34mb\";\"\u001b[0m\u001b[0;34m,\u001b[0m \u001b[0;36m1\u001b[0m\u001b[0;34m)\u001b[0m\u001b[0;34m[\u001b[0m\u001b[0;36m0\u001b[0m\u001b[0;34m]\u001b[0m\u001b[0;34m\u001b[0m\u001b[0;34m\u001b[0m\u001b[0m\n\u001b[1;32m    696\u001b[0m         \u001b[0;32mtry\u001b[0m\u001b[0;34m:\u001b[0m\u001b[0;34m\u001b[0m\u001b[0;34m\u001b[0m\u001b[0m\n",
      "\u001b[0;32m~/opt/anaconda3/lib/python3.8/socket.py\u001b[0m in \u001b[0;36mreadinto\u001b[0;34m(self, b)\u001b[0m\n\u001b[1;32m    667\u001b[0m         \u001b[0;32mwhile\u001b[0m \u001b[0;32mTrue\u001b[0m\u001b[0;34m:\u001b[0m\u001b[0;34m\u001b[0m\u001b[0;34m\u001b[0m\u001b[0m\n\u001b[1;32m    668\u001b[0m             \u001b[0;32mtry\u001b[0m\u001b[0;34m:\u001b[0m\u001b[0;34m\u001b[0m\u001b[0;34m\u001b[0m\u001b[0m\n\u001b[0;32m--> 669\u001b[0;31m                 \u001b[0;32mreturn\u001b[0m \u001b[0mself\u001b[0m\u001b[0;34m.\u001b[0m\u001b[0m_sock\u001b[0m\u001b[0;34m.\u001b[0m\u001b[0mrecv_into\u001b[0m\u001b[0;34m(\u001b[0m\u001b[0mb\u001b[0m\u001b[0;34m)\u001b[0m\u001b[0;34m\u001b[0m\u001b[0;34m\u001b[0m\u001b[0m\n\u001b[0m\u001b[1;32m    670\u001b[0m             \u001b[0;32mexcept\u001b[0m \u001b[0mtimeout\u001b[0m\u001b[0;34m:\u001b[0m\u001b[0;34m\u001b[0m\u001b[0;34m\u001b[0m\u001b[0m\n\u001b[1;32m    671\u001b[0m                 \u001b[0mself\u001b[0m\u001b[0;34m.\u001b[0m\u001b[0m_timeout_occurred\u001b[0m \u001b[0;34m=\u001b[0m \u001b[0;32mTrue\u001b[0m\u001b[0;34m\u001b[0m\u001b[0;34m\u001b[0m\u001b[0m\n",
      "\u001b[0;32m~/opt/anaconda3/lib/python3.8/ssl.py\u001b[0m in \u001b[0;36mrecv_into\u001b[0;34m(self, buffer, nbytes, flags)\u001b[0m\n\u001b[1;32m   1239\u001b[0m                   \u001b[0;34m\"non-zero flags not allowed in calls to recv_into() on %s\"\u001b[0m \u001b[0;34m%\u001b[0m\u001b[0;34m\u001b[0m\u001b[0;34m\u001b[0m\u001b[0m\n\u001b[1;32m   1240\u001b[0m                   self.__class__)\n\u001b[0;32m-> 1241\u001b[0;31m             \u001b[0;32mreturn\u001b[0m \u001b[0mself\u001b[0m\u001b[0;34m.\u001b[0m\u001b[0mread\u001b[0m\u001b[0;34m(\u001b[0m\u001b[0mnbytes\u001b[0m\u001b[0;34m,\u001b[0m \u001b[0mbuffer\u001b[0m\u001b[0;34m)\u001b[0m\u001b[0;34m\u001b[0m\u001b[0;34m\u001b[0m\u001b[0m\n\u001b[0m\u001b[1;32m   1242\u001b[0m         \u001b[0;32melse\u001b[0m\u001b[0;34m:\u001b[0m\u001b[0;34m\u001b[0m\u001b[0;34m\u001b[0m\u001b[0m\n\u001b[1;32m   1243\u001b[0m             \u001b[0;32mreturn\u001b[0m \u001b[0msuper\u001b[0m\u001b[0;34m(\u001b[0m\u001b[0;34m)\u001b[0m\u001b[0;34m.\u001b[0m\u001b[0mrecv_into\u001b[0m\u001b[0;34m(\u001b[0m\u001b[0mbuffer\u001b[0m\u001b[0;34m,\u001b[0m \u001b[0mnbytes\u001b[0m\u001b[0;34m,\u001b[0m \u001b[0mflags\u001b[0m\u001b[0;34m)\u001b[0m\u001b[0;34m\u001b[0m\u001b[0;34m\u001b[0m\u001b[0m\n",
      "\u001b[0;32m~/opt/anaconda3/lib/python3.8/ssl.py\u001b[0m in \u001b[0;36mread\u001b[0;34m(self, len, buffer)\u001b[0m\n\u001b[1;32m   1097\u001b[0m         \u001b[0;32mtry\u001b[0m\u001b[0;34m:\u001b[0m\u001b[0;34m\u001b[0m\u001b[0;34m\u001b[0m\u001b[0m\n\u001b[1;32m   1098\u001b[0m             \u001b[0;32mif\u001b[0m \u001b[0mbuffer\u001b[0m \u001b[0;32mis\u001b[0m \u001b[0;32mnot\u001b[0m \u001b[0;32mNone\u001b[0m\u001b[0;34m:\u001b[0m\u001b[0;34m\u001b[0m\u001b[0;34m\u001b[0m\u001b[0m\n\u001b[0;32m-> 1099\u001b[0;31m                 \u001b[0;32mreturn\u001b[0m \u001b[0mself\u001b[0m\u001b[0;34m.\u001b[0m\u001b[0m_sslobj\u001b[0m\u001b[0;34m.\u001b[0m\u001b[0mread\u001b[0m\u001b[0;34m(\u001b[0m\u001b[0mlen\u001b[0m\u001b[0;34m,\u001b[0m \u001b[0mbuffer\u001b[0m\u001b[0;34m)\u001b[0m\u001b[0;34m\u001b[0m\u001b[0;34m\u001b[0m\u001b[0m\n\u001b[0m\u001b[1;32m   1100\u001b[0m             \u001b[0;32melse\u001b[0m\u001b[0;34m:\u001b[0m\u001b[0;34m\u001b[0m\u001b[0;34m\u001b[0m\u001b[0m\n\u001b[1;32m   1101\u001b[0m                 \u001b[0;32mreturn\u001b[0m \u001b[0mself\u001b[0m\u001b[0;34m.\u001b[0m\u001b[0m_sslobj\u001b[0m\u001b[0;34m.\u001b[0m\u001b[0mread\u001b[0m\u001b[0;34m(\u001b[0m\u001b[0mlen\u001b[0m\u001b[0;34m)\u001b[0m\u001b[0;34m\u001b[0m\u001b[0;34m\u001b[0m\u001b[0m\n",
      "\u001b[0;31mKeyboardInterrupt\u001b[0m: "
     ]
    }
   ],
   "source": [
    "get_page(url)"
   ]
  },
  {
   "cell_type": "markdown",
   "metadata": {},
   "source": [
    "## Retrieve Data"
   ]
  },
  {
   "cell_type": "markdown",
   "metadata": {},
   "source": [
    "### Preparation"
   ]
  },
  {
   "cell_type": "code",
   "execution_count": 7,
   "metadata": {},
   "outputs": [],
   "source": [
    "soup = get_page(url)"
   ]
  },
  {
   "cell_type": "code",
   "execution_count": 8,
   "metadata": {},
   "outputs": [],
   "source": [
    "all_codetags = soup.find_all(class_='_12oal24')\n",
    "first_listing = all_codetags[0]"
   ]
  },
  {
   "cell_type": "markdown",
   "metadata": {},
   "source": [
    "### Data Extraction"
   ]
  },
  {
   "cell_type": "code",
   "execution_count": 14,
   "metadata": {},
   "outputs": [],
   "source": [
    "def get_listing_title(tag_object):\n",
    "    try:\n",
    "        return tag_object.find(class_ = '_1whrsux9').text\n",
    "    except:\n",
    "        return None"
   ]
  },
  {
   "cell_type": "code",
   "execution_count": 15,
   "metadata": {},
   "outputs": [
    {
     "data": {
      "text/plain": [
       "'❣️Romantic Staycation-PrivateSunset Pool@megananda'"
      ]
     },
     "execution_count": 15,
     "metadata": {},
     "output_type": "execute_result"
    }
   ],
   "source": [
    "get_listing_title(first_listing)"
   ]
  },
  {
   "cell_type": "code",
   "execution_count": 16,
   "metadata": {},
   "outputs": [],
   "source": [
    "def get_listing_subtitle(tag_object):\n",
    "    try:\n",
    "        return tag_object.find(class_ = '_1tanv1h').text\n",
    "    except:\n",
    "        return None"
   ]
  },
  {
   "cell_type": "code",
   "execution_count": 17,
   "metadata": {},
   "outputs": [
    {
     "data": {
      "text/plain": [
       "'Entire villa in Ubud'"
      ]
     },
     "execution_count": 17,
     "metadata": {},
     "output_type": "execute_result"
    }
   ],
   "source": [
    "get_listing_subtitle(first_listing)"
   ]
  },
  {
   "cell_type": "code",
   "execution_count": 18,
   "metadata": {},
   "outputs": [],
   "source": [
    "def get_listing_info(tag_object):\n",
    "    try:\n",
    "        x = tag_object.find_all(\"div\", {\"class\": '_3c0zz1'})\n",
    "        return x[0].text\n",
    "    except:\n",
    "        return None"
   ]
  },
  {
   "cell_type": "code",
   "execution_count": 19,
   "metadata": {},
   "outputs": [
    {
     "data": {
      "text/plain": [
       "'2 guests · 1 bedroom · 1 bed · 1 bath'"
      ]
     },
     "execution_count": 19,
     "metadata": {},
     "output_type": "execute_result"
    }
   ],
   "source": [
    "get_listing_info(first_listing)"
   ]
  },
  {
   "cell_type": "code",
   "execution_count": 20,
   "metadata": {},
   "outputs": [],
   "source": [
    "def get_listing_ammenities(tag_object):\n",
    "    try:\n",
    "        x = tag_object.find_all(\"div\", {\"class\": '_3c0zz1'})\n",
    "        return x[1].text\n",
    "    except:\n",
    "        return None"
   ]
  },
  {
   "cell_type": "code",
   "execution_count": 21,
   "metadata": {},
   "outputs": [
    {
     "data": {
      "text/plain": [
       "'Pool · Wifi · Air conditioning'"
      ]
     },
     "execution_count": 21,
     "metadata": {},
     "output_type": "execute_result"
    }
   ],
   "source": [
    "get_listing_ammenities(first_listing)"
   ]
  },
  {
   "cell_type": "code",
   "execution_count": 22,
   "metadata": {},
   "outputs": [],
   "source": [
    "def get_listing_rating(tag_object):\n",
    "    try:        \n",
    "        x = tag_object.find(class_ = '_10fy1f8').text\n",
    "        return float(x)\n",
    "    except:\n",
    "        return None "
   ]
  },
  {
   "cell_type": "code",
   "execution_count": 23,
   "metadata": {},
   "outputs": [
    {
     "data": {
      "text/plain": [
       "4.94"
      ]
     },
     "execution_count": 23,
     "metadata": {},
     "output_type": "execute_result"
    }
   ],
   "source": [
    "get_listing_rating(first_listing)"
   ]
  },
  {
   "cell_type": "code",
   "execution_count": 24,
   "metadata": {},
   "outputs": [],
   "source": [
    "def get_listing_reviews(tag_object):\n",
    "    try:\n",
    "        x = tag_object.find(class_ = '_a7a5sx').text\n",
    "        y = x.split()[0]\n",
    "        z = y.split('(')[1]\n",
    "        return int(z)\n",
    "    except:\n",
    "        return None"
   ]
  },
  {
   "cell_type": "code",
   "execution_count": 25,
   "metadata": {},
   "outputs": [
    {
     "data": {
      "text/plain": [
       "243"
      ]
     },
     "execution_count": 25,
     "metadata": {},
     "output_type": "execute_result"
    }
   ],
   "source": [
    "get_listing_reviews(first_listing)"
   ]
  },
  {
   "cell_type": "code",
   "execution_count": 26,
   "metadata": {},
   "outputs": [],
   "source": [
    "def get_listing_price_per_night(tag_object):\n",
    "    price = tag_object.find(\"span\", {\"class\": \"_tyxjp1\"})\n",
    "    if price == None:\n",
    "        return None\n",
    "    else:\n",
    "        a = filter(str.isdigit, price.text)\n",
    "        return(float(\"\".join(a)))"
   ]
  },
  {
   "cell_type": "code",
   "execution_count": 27,
   "metadata": {},
   "outputs": [
    {
     "data": {
      "text/plain": [
       "92.0"
      ]
     },
     "execution_count": 27,
     "metadata": {},
     "output_type": "execute_result"
    }
   ],
   "source": [
    "get_listing_price_per_night(first_listing)"
   ]
  },
  {
   "cell_type": "code",
   "execution_count": 28,
   "metadata": {},
   "outputs": [],
   "source": [
    "def get_listing_total_price(tag_object):\n",
    "    total_price = tag_object.find_all(\"span\", {\"class\": \"a8jt5op\"})\n",
    "    if total_price == []:\n",
    "        return None\n",
    "    else:\n",
    "        for a in total_price:\n",
    "            total = \"total\"   \n",
    "            if total in a.text:\n",
    "                    d = filter(str.isdigit, a.text)\n",
    "                    return(float(\"\".join(d)))"
   ]
  },
  {
   "cell_type": "code",
   "execution_count": 29,
   "metadata": {},
   "outputs": [
    {
     "data": {
      "text/plain": [
       "355.0"
      ]
     },
     "execution_count": 29,
     "metadata": {},
     "output_type": "execute_result"
    }
   ],
   "source": [
    "get_listing_total_price(all_codetags[1])"
   ]
  },
  {
   "cell_type": "markdown",
   "metadata": {},
   "source": [
    "### Looking for additional data"
   ]
  },
  {
   "cell_type": "code",
   "execution_count": 31,
   "metadata": {},
   "outputs": [],
   "source": [
    "def get_next_page(bs_object): \n",
    "    page = bs_object.find(\"a\", {\"class\": \"_za9j7e\"})\n",
    "    if page == None:\n",
    "        return None\n",
    "    else:\n",
    "        return(base_url + page.get(\"href\"))"
   ]
  },
  {
   "cell_type": "code",
   "execution_count": 32,
   "metadata": {},
   "outputs": [
    {
     "data": {
      "text/plain": [
       "'https://airbnb.com/s/Bali--Indonesia/homes?tab_id=home_tab&refinement_paths%5B%5D=%2Fhomes&flexible_trip_dates%5B%5D=november&flexible_trip_dates%5B%5D=october&flexible_trip_lengths%5B%5D=weekend_trip&date_picker_type=calendar&query=Bali%2C%20Indonesia&place_id=ChIJoQ8Q6NNB0S0RkOYkS7EPkSQ&checkin=2021-12-29&checkout=2022-01-03&source=structured_search_input_header&search_type=autocomplete_click&federated_search_session_id=afe3cda7-f582-4ac5-9733-f318fc969a91&pagination_search=true&items_offset=20&section_offset=2'"
      ]
     },
     "execution_count": 32,
     "metadata": {},
     "output_type": "execute_result"
    }
   ],
   "source": [
    "html_data = get_page(url)\n",
    "get_next_page(html_data)"
   ]
  },
  {
   "cell_type": "markdown",
   "metadata": {
    "heading_collapsed": true
   },
   "source": [
    "## Saving the Data"
   ]
  },
  {
   "cell_type": "code",
   "execution_count": 33,
   "metadata": {
    "hidden": true
   },
   "outputs": [],
   "source": [
    "def get_data(soup_obj):\n",
    "    \"\"\"\n",
    "    get_data implementation using next-button links. This method suffers from the non-deterministic results\n",
    "    of the airbnb page\n",
    "    \"\"\"\n",
    "    title = []\n",
    "    subtitle = []\n",
    "    info = []\n",
    "    ammenities = []\n",
    "    rating = []\n",
    "    reviews = []\n",
    "    price_per_night = []\n",
    "    total_price = []\n",
    "\n",
    "    current_page = soup_obj\n",
    "    while current_page != None:\n",
    "        all_codetags = current_page.find_all(class_='_12oal24')\n",
    "        for i in all_codetags:\n",
    "            title.append(get_listing_title(i))\n",
    "            subtitle.append(get_listing_subtitle(i))\n",
    "            info.append(get_listing_info(i))\n",
    "            ammenities.append(get_listing_ammenities(i))\n",
    "            rating.append(get_listing_rating(i))\n",
    "            reviews.append(get_listing_reviews(i))\n",
    "            price_per_night.append(get_listing_price_per_night(i))\n",
    "            total_price.append(get_listing_total_price(i))\n",
    "        next_url = get_next_page(current_page)\n",
    "        if next_url:\n",
    "            current_page = get_page(next_url)\n",
    "        else:\n",
    "            current_page = None\n",
    "    listings_dict = {\"title\": title, \"subtitle\": subtitle, \"info\": info, \"ammenities\": ammenities, \n",
    "             \"rating\": rating, \"reviews\": reviews, \"price_per_night\": price_per_night, \n",
    "             \"total_price\": total_price, \"total_price\": total_price}\n",
    "    return pd.DataFrame(listings_dict)    "
   ]
  },
  {
   "cell_type": "code",
   "execution_count": 34,
   "metadata": {
    "hidden": true
   },
   "outputs": [
    {
     "data": {
      "text/html": [
       "<div>\n",
       "<style scoped>\n",
       "    .dataframe tbody tr th:only-of-type {\n",
       "        vertical-align: middle;\n",
       "    }\n",
       "\n",
       "    .dataframe tbody tr th {\n",
       "        vertical-align: top;\n",
       "    }\n",
       "\n",
       "    .dataframe thead th {\n",
       "        text-align: right;\n",
       "    }\n",
       "</style>\n",
       "<table border=\"1\" class=\"dataframe\">\n",
       "  <thead>\n",
       "    <tr style=\"text-align: right;\">\n",
       "      <th></th>\n",
       "      <th>title</th>\n",
       "      <th>subtitle</th>\n",
       "      <th>info</th>\n",
       "      <th>ammenities</th>\n",
       "      <th>rating</th>\n",
       "      <th>reviews</th>\n",
       "      <th>price_per_night</th>\n",
       "      <th>total_price</th>\n",
       "    </tr>\n",
       "  </thead>\n",
       "  <tbody>\n",
       "    <tr>\n",
       "      <th>0</th>\n",
       "      <td>❣️Romantic Staycation-PrivateSunset Pool@megan...</td>\n",
       "      <td>Entire villa in Ubud</td>\n",
       "      <td>2 guests · 1 bedroom · 1 bed · 1 bath</td>\n",
       "      <td>Pool · Wifi · Air conditioning</td>\n",
       "      <td>4.94</td>\n",
       "      <td>243.0</td>\n",
       "      <td>92.0</td>\n",
       "      <td>458.0</td>\n",
       "    </tr>\n",
       "    <tr>\n",
       "      <th>1</th>\n",
       "      <td>NEW Private Luxe Villa, Jungle View-Pool-Koi Pond</td>\n",
       "      <td>Entire villa in Kecamatan Ubud</td>\n",
       "      <td>2 guests · 1 bedroom · 1 bed · 1 bath</td>\n",
       "      <td>Pool · Wifi · Air conditioning · Kitchen</td>\n",
       "      <td>5.00</td>\n",
       "      <td>16.0</td>\n",
       "      <td>71.0</td>\n",
       "      <td>355.0</td>\n",
       "    </tr>\n",
       "    <tr>\n",
       "      <th>2</th>\n",
       "      <td>Cozy 2BR Villa with Panoramic View of Rice Fields</td>\n",
       "      <td>Entire villa in Kecamatan Ubud</td>\n",
       "      <td>6 guests · 2 bedrooms · 2 beds · 2 baths</td>\n",
       "      <td>Pool · Wifi · Air conditioning · Kitchen</td>\n",
       "      <td>4.93</td>\n",
       "      <td>41.0</td>\n",
       "      <td>348.0</td>\n",
       "      <td>1740.0</td>\n",
       "    </tr>\n",
       "    <tr>\n",
       "      <th>3</th>\n",
       "      <td>Sparkling Gem - private pool - Mins to La Brisa</td>\n",
       "      <td>Entire villa in Mengwi</td>\n",
       "      <td>3 guests · 1 bedroom · 2 beds · 1 bath</td>\n",
       "      <td>Pool · Wifi · Air conditioning</td>\n",
       "      <td>4.85</td>\n",
       "      <td>98.0</td>\n",
       "      <td>69.0</td>\n",
       "      <td>342.0</td>\n",
       "    </tr>\n",
       "    <tr>\n",
       "      <th>4</th>\n",
       "      <td>Newly Built Villa Made East Near Seminyak  Beach</td>\n",
       "      <td>Entire villa in Kuta</td>\n",
       "      <td>4 guests · 2 bedrooms · 2 beds · 2 baths</td>\n",
       "      <td>Pool · Wifi · Air conditioning · Kitchen</td>\n",
       "      <td>4.89</td>\n",
       "      <td>89.0</td>\n",
       "      <td>70.0</td>\n",
       "      <td>350.0</td>\n",
       "    </tr>\n",
       "    <tr>\n",
       "      <th>5</th>\n",
       "      <td>River Studio</td>\n",
       "      <td>Entire residential home in Perenenan</td>\n",
       "      <td>2 guests · 1 bedroom · 1 bed · 1 bath</td>\n",
       "      <td>Air conditioning · Kitchen</td>\n",
       "      <td>4.98</td>\n",
       "      <td>47.0</td>\n",
       "      <td>434.0</td>\n",
       "      <td>2168.0</td>\n",
       "    </tr>\n",
       "    <tr>\n",
       "      <th>6</th>\n",
       "      <td>King Bed Bungalows w/ Gardens, Pools and Break...</td>\n",
       "      <td>Hotel room in Kuta Utara</td>\n",
       "      <td>2 guests · 1 bedroom · 1 bed · 1 private bath</td>\n",
       "      <td>Pool · Wifi · Air conditioning</td>\n",
       "      <td>4.86</td>\n",
       "      <td>21.0</td>\n",
       "      <td>33.0</td>\n",
       "      <td>162.0</td>\n",
       "    </tr>\n",
       "    <tr>\n",
       "      <th>7</th>\n",
       "      <td>baahi  ( free scooter)</td>\n",
       "      <td>Entire residential home in Kuta</td>\n",
       "      <td>2 guests · 1 bedroom · 1 bed · 1 bath</td>\n",
       "      <td>Pool · Wifi · Air conditioning · Kitchen</td>\n",
       "      <td>4.82</td>\n",
       "      <td>119.0</td>\n",
       "      <td>45.0</td>\n",
       "      <td>222.0</td>\n",
       "    </tr>\n",
       "    <tr>\n",
       "      <th>8</th>\n",
       "      <td>Private 2BR Luxury Villa with Fiber Optic Inte...</td>\n",
       "      <td>Entire villa in Seminyak</td>\n",
       "      <td>6 guests · 2 bedrooms · 2 beds · 2 baths</td>\n",
       "      <td>Pool · Wifi · Air conditioning · Kitchen</td>\n",
       "      <td>4.83</td>\n",
       "      <td>31.0</td>\n",
       "      <td>188.0</td>\n",
       "      <td>936.0</td>\n",
       "    </tr>\n",
       "    <tr>\n",
       "      <th>9</th>\n",
       "      <td>3 bedroom 3 bathroom villa in seminyak</td>\n",
       "      <td>Entire villa in Kuta Utara</td>\n",
       "      <td>6 guests · 3 bedrooms · 3 beds · 3.5 baths</td>\n",
       "      <td>Pool · Wifi · Air conditioning · Kitchen</td>\n",
       "      <td>4.74</td>\n",
       "      <td>50.0</td>\n",
       "      <td>703.0</td>\n",
       "      <td>3512.0</td>\n",
       "    </tr>\n",
       "  </tbody>\n",
       "</table>\n",
       "</div>"
      ],
      "text/plain": [
       "                                               title  \\\n",
       "0  ❣️Romantic Staycation-PrivateSunset Pool@megan...   \n",
       "1  NEW Private Luxe Villa, Jungle View-Pool-Koi Pond   \n",
       "2  Cozy 2BR Villa with Panoramic View of Rice Fields   \n",
       "3    Sparkling Gem - private pool - Mins to La Brisa   \n",
       "4   Newly Built Villa Made East Near Seminyak  Beach   \n",
       "5                                       River Studio   \n",
       "6  King Bed Bungalows w/ Gardens, Pools and Break...   \n",
       "7                             baahi  ( free scooter)   \n",
       "8  Private 2BR Luxury Villa with Fiber Optic Inte...   \n",
       "9             3 bedroom 3 bathroom villa in seminyak   \n",
       "\n",
       "                               subtitle  \\\n",
       "0                  Entire villa in Ubud   \n",
       "1        Entire villa in Kecamatan Ubud   \n",
       "2        Entire villa in Kecamatan Ubud   \n",
       "3                Entire villa in Mengwi   \n",
       "4                  Entire villa in Kuta   \n",
       "5  Entire residential home in Perenenan   \n",
       "6              Hotel room in Kuta Utara   \n",
       "7       Entire residential home in Kuta   \n",
       "8              Entire villa in Seminyak   \n",
       "9            Entire villa in Kuta Utara   \n",
       "\n",
       "                                            info  \\\n",
       "0          2 guests · 1 bedroom · 1 bed · 1 bath   \n",
       "1          2 guests · 1 bedroom · 1 bed · 1 bath   \n",
       "2       6 guests · 2 bedrooms · 2 beds · 2 baths   \n",
       "3         3 guests · 1 bedroom · 2 beds · 1 bath   \n",
       "4       4 guests · 2 bedrooms · 2 beds · 2 baths   \n",
       "5          2 guests · 1 bedroom · 1 bed · 1 bath   \n",
       "6  2 guests · 1 bedroom · 1 bed · 1 private bath   \n",
       "7          2 guests · 1 bedroom · 1 bed · 1 bath   \n",
       "8       6 guests · 2 bedrooms · 2 beds · 2 baths   \n",
       "9     6 guests · 3 bedrooms · 3 beds · 3.5 baths   \n",
       "\n",
       "                                 ammenities  rating  reviews  price_per_night  \\\n",
       "0            Pool · Wifi · Air conditioning    4.94    243.0             92.0   \n",
       "1  Pool · Wifi · Air conditioning · Kitchen    5.00     16.0             71.0   \n",
       "2  Pool · Wifi · Air conditioning · Kitchen    4.93     41.0            348.0   \n",
       "3            Pool · Wifi · Air conditioning    4.85     98.0             69.0   \n",
       "4  Pool · Wifi · Air conditioning · Kitchen    4.89     89.0             70.0   \n",
       "5                Air conditioning · Kitchen    4.98     47.0            434.0   \n",
       "6            Pool · Wifi · Air conditioning    4.86     21.0             33.0   \n",
       "7  Pool · Wifi · Air conditioning · Kitchen    4.82    119.0             45.0   \n",
       "8  Pool · Wifi · Air conditioning · Kitchen    4.83     31.0            188.0   \n",
       "9  Pool · Wifi · Air conditioning · Kitchen    4.74     50.0            703.0   \n",
       "\n",
       "   total_price  \n",
       "0        458.0  \n",
       "1        355.0  \n",
       "2       1740.0  \n",
       "3        342.0  \n",
       "4        350.0  \n",
       "5       2168.0  \n",
       "6        162.0  \n",
       "7        222.0  \n",
       "8        936.0  \n",
       "9       3512.0  "
      ]
     },
     "execution_count": 34,
     "metadata": {},
     "output_type": "execute_result"
    }
   ],
   "source": [
    "airbnb = get_data(soup)\n",
    "airbnb.head(10)"
   ]
  },
  {
   "cell_type": "code",
   "execution_count": 35,
   "metadata": {
    "hidden": true
   },
   "outputs": [],
   "source": [
    "#airbnb.to_csv('Dataframe_final.csv')\n",
    "#airbnb.to_excel(\"airbnb.xls\")"
   ]
  },
  {
   "cell_type": "markdown",
   "metadata": {},
   "source": [
    "## Additional Changes"
   ]
  },
  {
   "cell_type": "code",
   "execution_count": 36,
   "metadata": {},
   "outputs": [],
   "source": [
    "import re\n",
    "def get_listing_info_2(indiv_listing):\n",
    "    result = {'guests':None ,'bedroom':None,'bed':None , 'bath':None}\n",
    "    try:\n",
    "        info = indiv_listing.find_all(\"div\", {\"class\": '_3c0zz1'})\n",
    "        info_text = info[0].text\n",
    "        elements = info_text.split('·')\n",
    "        for el in elements:\n",
    "            number_matched = re.findall(\"\\d+\", el)\n",
    "            if number_matched:\n",
    "                val = float(number_matched[0])\n",
    "            if 'guest' in el:\n",
    "                result.update({'guests': val})\n",
    "            if 'bedroom' in el:\n",
    "                result.update({'bedroom': val})\n",
    "            if ('bed' in el) and ('bedroom' not in el):\n",
    "                result.update({'bed': val})\n",
    "            if 'bath' in el:\n",
    "                if 'half-bath'.upper() in el.upper():\n",
    "                    result.update({'bath': 0.5})\n",
    "                else:\n",
    "                    float_matched = re.findall(\"\\d+\\.\\d+\", el)\n",
    "                    if float_matched:\n",
    "                        result.update({'bath': float(float_matched[0])})\n",
    "                    else:\n",
    "                        result.update({'bath': val})\n",
    "        result_list = result.values()\n",
    "        return tuple(result_list)\n",
    "    except:\n",
    "        return None"
   ]
  },
  {
   "cell_type": "code",
   "execution_count": 37,
   "metadata": {},
   "outputs": [],
   "source": [
    "def get_listing_ammenities_2(indiv_listing):\n",
    "    result = {'Pool':'False' ,'Wifi':'False','Air conditioning':'False' , 'Kitchen':'False'}\n",
    "    try:\n",
    "        x = get_listing_ammenities(indiv_listing)\n",
    "        if 'Pool' in x:\n",
    "            result.update({'Pool': 'True'})\n",
    "        if 'Wifi' in x:\n",
    "            result.update({'Wifi': 'True'})\n",
    "        if 'Air conditioning' in x:\n",
    "            result.update({'Air conditioning': 'True'})\n",
    "        if 'Kitchen' in x:\n",
    "            result.update({'Kitchen': 'True'})\n",
    "        result_list = result.values()\n",
    "        return tuple(result_list)\n",
    "    except:\n",
    "        return None"
   ]
  },
  {
   "cell_type": "code",
   "execution_count": 38,
   "metadata": {},
   "outputs": [],
   "source": [
    "def get_data_append_2(soup):\n",
    "    info_2 = []\n",
    "    ammenities_2 = []\n",
    "    title = []\n",
    "    subtitle = []\n",
    "    info = []\n",
    "    ammenities = []\n",
    "    rating = []\n",
    "    reviews = []\n",
    "    price_per_night = []\n",
    "    total_price = []\n",
    "    \"\"\"\n",
    "    get_data implementation using next-button links. This method suffers from the non-deterministic results\n",
    "    of the airbnb page\n",
    "    \"\"\"\n",
    "    current_page = soup\n",
    "    while get_next_page(current_page) != None:\n",
    "        all_codetags = current_page.find_all(class_='_12oal24')\n",
    "        for i in all_codetags:\n",
    "            title.append(get_listing_title(i))\n",
    "            subtitle.append(get_listing_subtitle(i))\n",
    "            info.append(get_listing_info(i))\n",
    "            ammenities.append(get_listing_ammenities(i))\n",
    "            rating.append(get_listing_rating(i))\n",
    "            reviews.append(get_listing_reviews(i))\n",
    "            price_per_night.append(get_listing_price_per_night(i))\n",
    "            total_price.append(get_listing_total_price(i))\n",
    "            info_2.append(get_listing_info_2(i))\n",
    "            ammenities_2.append(get_listing_ammenities_2(i))\n",
    "        next_url = get_next_page(current_page)\n",
    "        if next_url:\n",
    "            current_page = get_page(next_url)\n",
    "        else:\n",
    "            current_page = None\n",
    "    list_dict_2 = {\"title\": title, \"subtitle\": subtitle, \"info\": info, \"ammenities\": ammenities, \n",
    "             \"rating\": rating, \"reviews\": reviews, \"price_per_night\": price_per_night, \n",
    "             \"total_price\": total_price, \"total_price\": total_price, 'info_2': info_2, 'ammenities_2': ammenities_2}\n",
    "    return pd.DataFrame(list_dict_2)"
   ]
  },
  {
   "cell_type": "code",
   "execution_count": 39,
   "metadata": {
    "scrolled": true
   },
   "outputs": [
    {
     "data": {
      "text/html": [
       "<div>\n",
       "<style scoped>\n",
       "    .dataframe tbody tr th:only-of-type {\n",
       "        vertical-align: middle;\n",
       "    }\n",
       "\n",
       "    .dataframe tbody tr th {\n",
       "        vertical-align: top;\n",
       "    }\n",
       "\n",
       "    .dataframe thead th {\n",
       "        text-align: right;\n",
       "    }\n",
       "</style>\n",
       "<table border=\"1\" class=\"dataframe\">\n",
       "  <thead>\n",
       "    <tr style=\"text-align: right;\">\n",
       "      <th></th>\n",
       "      <th>title</th>\n",
       "      <th>subtitle</th>\n",
       "      <th>info</th>\n",
       "      <th>ammenities</th>\n",
       "      <th>rating</th>\n",
       "      <th>reviews</th>\n",
       "      <th>price_per_night</th>\n",
       "      <th>total_price</th>\n",
       "      <th>info_2</th>\n",
       "      <th>ammenities_2</th>\n",
       "    </tr>\n",
       "  </thead>\n",
       "  <tbody>\n",
       "    <tr>\n",
       "      <th>0</th>\n",
       "      <td>❣️Romantic Staycation-PrivateSunset Pool@megan...</td>\n",
       "      <td>Entire villa in Ubud</td>\n",
       "      <td>2 guests · 1 bedroom · 1 bed · 1 bath</td>\n",
       "      <td>Pool · Wifi · Air conditioning</td>\n",
       "      <td>4.94</td>\n",
       "      <td>243.0</td>\n",
       "      <td>92.0</td>\n",
       "      <td>458.0</td>\n",
       "      <td>(2.0, 1.0, 1.0, 1.0)</td>\n",
       "      <td>(True, True, True, False)</td>\n",
       "    </tr>\n",
       "    <tr>\n",
       "      <th>1</th>\n",
       "      <td>NEW Private Luxe Villa, Jungle View-Pool-Koi Pond</td>\n",
       "      <td>Entire villa in Kecamatan Ubud</td>\n",
       "      <td>2 guests · 1 bedroom · 1 bed · 1 bath</td>\n",
       "      <td>Pool · Wifi · Air conditioning · Kitchen</td>\n",
       "      <td>5.00</td>\n",
       "      <td>16.0</td>\n",
       "      <td>71.0</td>\n",
       "      <td>355.0</td>\n",
       "      <td>(2.0, 1.0, 1.0, 1.0)</td>\n",
       "      <td>(True, True, True, True)</td>\n",
       "    </tr>\n",
       "    <tr>\n",
       "      <th>2</th>\n",
       "      <td>Cozy 2BR Villa with Panoramic View of Rice Fields</td>\n",
       "      <td>Entire villa in Kecamatan Ubud</td>\n",
       "      <td>6 guests · 2 bedrooms · 2 beds · 2 baths</td>\n",
       "      <td>Pool · Wifi · Air conditioning · Kitchen</td>\n",
       "      <td>4.93</td>\n",
       "      <td>41.0</td>\n",
       "      <td>348.0</td>\n",
       "      <td>1740.0</td>\n",
       "      <td>(6.0, 2.0, 2.0, 2.0)</td>\n",
       "      <td>(True, True, True, True)</td>\n",
       "    </tr>\n",
       "    <tr>\n",
       "      <th>3</th>\n",
       "      <td>Sparkling Gem - private pool - Mins to La Brisa</td>\n",
       "      <td>Entire villa in Mengwi</td>\n",
       "      <td>3 guests · 1 bedroom · 2 beds · 1 bath</td>\n",
       "      <td>Pool · Wifi · Air conditioning</td>\n",
       "      <td>4.85</td>\n",
       "      <td>98.0</td>\n",
       "      <td>69.0</td>\n",
       "      <td>342.0</td>\n",
       "      <td>(3.0, 1.0, 2.0, 1.0)</td>\n",
       "      <td>(True, True, True, False)</td>\n",
       "    </tr>\n",
       "    <tr>\n",
       "      <th>4</th>\n",
       "      <td>Newly Built Villa Made East Near Seminyak  Beach</td>\n",
       "      <td>Entire villa in Kuta</td>\n",
       "      <td>4 guests · 2 bedrooms · 2 beds · 2 baths</td>\n",
       "      <td>Pool · Wifi · Air conditioning · Kitchen</td>\n",
       "      <td>4.89</td>\n",
       "      <td>89.0</td>\n",
       "      <td>70.0</td>\n",
       "      <td>350.0</td>\n",
       "      <td>(4.0, 2.0, 2.0, 2.0)</td>\n",
       "      <td>(True, True, True, True)</td>\n",
       "    </tr>\n",
       "  </tbody>\n",
       "</table>\n",
       "</div>"
      ],
      "text/plain": [
       "                                               title  \\\n",
       "0  ❣️Romantic Staycation-PrivateSunset Pool@megan...   \n",
       "1  NEW Private Luxe Villa, Jungle View-Pool-Koi Pond   \n",
       "2  Cozy 2BR Villa with Panoramic View of Rice Fields   \n",
       "3    Sparkling Gem - private pool - Mins to La Brisa   \n",
       "4   Newly Built Villa Made East Near Seminyak  Beach   \n",
       "\n",
       "                         subtitle                                      info  \\\n",
       "0            Entire villa in Ubud     2 guests · 1 bedroom · 1 bed · 1 bath   \n",
       "1  Entire villa in Kecamatan Ubud     2 guests · 1 bedroom · 1 bed · 1 bath   \n",
       "2  Entire villa in Kecamatan Ubud  6 guests · 2 bedrooms · 2 beds · 2 baths   \n",
       "3          Entire villa in Mengwi    3 guests · 1 bedroom · 2 beds · 1 bath   \n",
       "4            Entire villa in Kuta  4 guests · 2 bedrooms · 2 beds · 2 baths   \n",
       "\n",
       "                                 ammenities  rating  reviews  price_per_night  \\\n",
       "0            Pool · Wifi · Air conditioning    4.94    243.0             92.0   \n",
       "1  Pool · Wifi · Air conditioning · Kitchen    5.00     16.0             71.0   \n",
       "2  Pool · Wifi · Air conditioning · Kitchen    4.93     41.0            348.0   \n",
       "3            Pool · Wifi · Air conditioning    4.85     98.0             69.0   \n",
       "4  Pool · Wifi · Air conditioning · Kitchen    4.89     89.0             70.0   \n",
       "\n",
       "   total_price                info_2               ammenities_2  \n",
       "0        458.0  (2.0, 1.0, 1.0, 1.0)  (True, True, True, False)  \n",
       "1        355.0  (2.0, 1.0, 1.0, 1.0)   (True, True, True, True)  \n",
       "2       1740.0  (6.0, 2.0, 2.0, 2.0)   (True, True, True, True)  \n",
       "3        342.0  (3.0, 1.0, 2.0, 1.0)  (True, True, True, False)  \n",
       "4        350.0  (4.0, 2.0, 2.0, 2.0)   (True, True, True, True)  "
      ]
     },
     "execution_count": 39,
     "metadata": {},
     "output_type": "execute_result"
    }
   ],
   "source": [
    "airbnb_extended = get_data_append_2(soup)\n",
    "airbnb_extended.head()"
   ]
  },
  {
   "cell_type": "code",
   "execution_count": 40,
   "metadata": {},
   "outputs": [],
   "source": [
    "#airbnb_extended.to_csv('airbnb_extended.csv')\n",
    "#airbnb_extended.to_excel('airbnb_extended.xls')"
   ]
  }
 ],
 "metadata": {
  "kernelspec": {
   "display_name": "Python 3",
   "language": "python",
   "name": "python3"
  },
  "language_info": {
   "codemirror_mode": {
    "name": "ipython",
    "version": 3
   },
   "file_extension": ".py",
   "mimetype": "text/x-python",
   "name": "python",
   "nbconvert_exporter": "python",
   "pygments_lexer": "ipython3",
   "version": "3.8.3"
  },
  "toc": {
   "base_numbering": 1,
   "nav_menu": {},
   "number_sections": true,
   "sideBar": true,
   "skip_h1_title": false,
   "title_cell": "Table of Contents",
   "title_sidebar": "Contents",
   "toc_cell": false,
   "toc_position": {},
   "toc_section_display": true,
   "toc_window_display": false
  },
  "varInspector": {
   "cols": {
    "lenName": 16,
    "lenType": 16,
    "lenVar": 40
   },
   "kernels_config": {
    "python": {
     "delete_cmd_postfix": "",
     "delete_cmd_prefix": "del ",
     "library": "var_list.py",
     "varRefreshCmd": "print(var_dic_list())"
    },
    "r": {
     "delete_cmd_postfix": ") ",
     "delete_cmd_prefix": "rm(",
     "library": "var_list.r",
     "varRefreshCmd": "cat(var_dic_list()) "
    }
   },
   "types_to_exclude": [
    "module",
    "function",
    "builtin_function_or_method",
    "instance",
    "_Feature"
   ],
   "window_display": false
  }
 },
 "nbformat": 4,
 "nbformat_minor": 4
}
