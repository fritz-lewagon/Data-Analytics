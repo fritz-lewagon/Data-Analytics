{
 "cells": [
  {
   "cell_type": "markdown",
   "metadata": {},
   "source": [
    "# Spotify API"
   ]
  },
  {
   "cell_type": "markdown",
   "metadata": {},
   "source": [
    "## Imports"
   ]
  },
  {
   "cell_type": "code",
   "execution_count": 3,
   "metadata": {},
   "outputs": [],
   "source": [
    "import requests\n",
    "import pandas as pd"
   ]
  },
  {
   "cell_type": "markdown",
   "metadata": {},
   "source": [
    "## Basic - Client ID, Client Secret and Access Token"
   ]
  },
  {
   "cell_type": "code",
   "execution_count": 1,
   "metadata": {},
   "outputs": [],
   "source": [
    "# client_id and client_secret storing personal ID and Key\n",
    "client_id = \n",
    "client_secret = "
   ]
  },
  {
   "cell_type": "code",
   "execution_count": 2,
   "metadata": {},
   "outputs": [],
   "source": [
    "# URL for token resource\n",
    "auth_url = 'https://accounts.spotify.com/api/token'\n",
    "\n",
    "# request body\n",
    "params = {'grant_type': 'client_credentials',\n",
    "          'client_id': client_id,\n",
    "          'client_secret': client_secret}\n",
    "\n",
    "# POST the request\n",
    "auth_response = requests.post(auth_url, params).json()"
   ]
  },
  {
   "cell_type": "code",
   "execution_count": 4,
   "metadata": {},
   "outputs": [
    {
     "data": {
      "text/plain": [
       "'BQBj-oIQkIWNwCsKxiVy-dJLpfPsQpgCRfIkCRI47WfXeNGIS_u_T6vbE6c4g8LMmb7T7m3_Yzv3x5bs-AY'"
      ]
     },
     "execution_count": 4,
     "metadata": {},
     "output_type": "execute_result"
    }
   ],
   "source": [
    "access_token = auth_response[\"access_token\"]\n",
    "access_token"
   ]
  },
  {
   "cell_type": "code",
   "execution_count": 5,
   "metadata": {},
   "outputs": [],
   "source": [
    "headers = {'Authorization': 'Bearer {token}'.format(token=access_token)}"
   ]
  },
  {
   "cell_type": "markdown",
   "metadata": {},
   "source": [
    "## Getting Audio Features of One Song - Creep"
   ]
  },
  {
   "cell_type": "code",
   "execution_count": 6,
   "metadata": {},
   "outputs": [],
   "source": [
    "#defining params\n",
    "base_url = 'https://api.spotify.com/v1/'\n",
    "audio_features_endpoint = \"audio-features/\"\n",
    "track_id = \"6b2oQwSGFkzsMtQruIWm2p\"\n",
    "\n",
    "params = {\"id\": track_id}"
   ]
  },
  {
   "cell_type": "code",
   "execution_count": 7,
   "metadata": {},
   "outputs": [
    {
     "data": {
      "text/plain": [
       "{'danceability': 0.515,\n",
       " 'energy': 0.43,\n",
       " 'key': 7,\n",
       " 'loudness': -9.935,\n",
       " 'mode': 1,\n",
       " 'speechiness': 0.0369,\n",
       " 'acousticness': 0.0102,\n",
       " 'instrumentalness': 0.000141,\n",
       " 'liveness': 0.129,\n",
       " 'valence': 0.104,\n",
       " 'tempo': 91.841,\n",
       " 'type': 'audio_features',\n",
       " 'id': '6b2oQwSGFkzsMtQruIWm2p',\n",
       " 'uri': 'spotify:track:6b2oQwSGFkzsMtQruIWm2p',\n",
       " 'track_href': 'https://api.spotify.com/v1/tracks/6b2oQwSGFkzsMtQruIWm2p',\n",
       " 'analysis_url': 'https://api.spotify.com/v1/audio-analysis/6b2oQwSGFkzsMtQruIWm2p',\n",
       " 'duration_ms': 238640,\n",
       " 'time_signature': 4}"
      ]
     },
     "execution_count": 7,
     "metadata": {},
     "output_type": "execute_result"
    }
   ],
   "source": [
    "creep = requests.get(base_url + audio_features_endpoint + params[\"id\"], headers=headers)\n",
    "creep = creep.json()\n",
    "creep"
   ]
  },
  {
   "cell_type": "markdown",
   "metadata": {},
   "source": [
    "## Getting Features of Complete Playlist"
   ]
  },
  {
   "cell_type": "code",
   "execution_count": 8,
   "metadata": {},
   "outputs": [],
   "source": [
    "playlist_id = \"4NVeFUEHBybfh3ITNG1b8n\"\n",
    "base_url = 'https://api.spotify.com/v1/'\n",
    "audio_playlist_endpoint = 'playlists/'\n",
    "\n",
    "params = {'playlist_id': playlist_id}"
   ]
  },
  {
   "cell_type": "code",
   "execution_count": 9,
   "metadata": {},
   "outputs": [
    {
     "data": {
      "text/plain": [
       "<Response [200]>"
      ]
     },
     "execution_count": 9,
     "metadata": {},
     "output_type": "execute_result"
    }
   ],
   "source": [
    "playlist_response = requests.get(base_url + audio_playlist_endpoint + params['playlist_id'], headers= headers)\n",
    "playlist = playlist_response.json()\n",
    "playlist"
   ]
  },
  {
   "cell_type": "markdown",
   "metadata": {},
   "source": [
    "### Retrieving basic information"
   ]
  },
  {
   "cell_type": "code",
   "execution_count": 11,
   "metadata": {},
   "outputs": [],
   "source": [
    "title = []\n",
    "album = []\n",
    "artist = []\n",
    "duration = []\n",
    "track_number = []\n",
    "release_date = []\n",
    "track_popularity = []\n",
    "track_id = []\n",
    "n_available_markets_1 = []\n",
    "\n",
    "\n",
    "for a in range(len(playlist[\"tracks\"][\"items\"])):\n",
    "    release_date.append(playlist[\"tracks\"][\"items\"][a][\"track\"][\"album\"][\"release_date\"])\n",
    "    track_number.append(playlist[\"tracks\"][\"items\"][a][\"track\"][\"track_number\"])\n",
    "    n_available_markets_1.append(playlist[\"tracks\"][\"items\"][a][\"track\"][\"available_markets\"])\n",
    "    duration.append(playlist[\"tracks\"][\"items\"][a][\"track\"][\"duration_ms\"])\n",
    "    track_popularity.append(playlist[\"tracks\"][\"items\"][a][\"track\"][\"popularity\"])\n",
    "    album.append(playlist[\"tracks\"][\"items\"][a][\"track\"][\"album\"][\"name\"])\n",
    "    title.append(playlist[\"tracks\"][\"items\"][a][\"track\"][\"name\"])\n",
    "    track_id.append(playlist[\"tracks\"][\"items\"][a][\"track\"][\"id\"])\n",
    "    artist.append(playlist[\"tracks\"][\"items\"][a][\"track\"][\"album\"][\"artists\"][0][\"name\"])"
   ]
  },
  {
   "cell_type": "code",
   "execution_count": 12,
   "metadata": {},
   "outputs": [],
   "source": [
    "n_available_markets = []\n",
    "\n",
    "for a in n_available_markets_1:\n",
    "    n_available_markets.append(len(a))"
   ]
  },
  {
   "cell_type": "code",
   "execution_count": 13,
   "metadata": {},
   "outputs": [],
   "source": [
    "audio_features = []\n",
    "\n",
    "for z in track_id:\n",
    "    params_2 = {\"ids\": [z]}\n",
    "    audio_features.append(requests.get(base_url + audio_features_endpoint, params = params_2, headers=headers).json())"
   ]
  },
  {
   "cell_type": "code",
   "execution_count": 14,
   "metadata": {},
   "outputs": [],
   "source": [
    "danceability = []\n",
    "energy = []\n",
    "loudness = []\n",
    "mode = [] \n",
    "speechiness = []\n",
    "acousticness = [] \n",
    "instrumentalness = [] \n",
    "liveness = []\n",
    "valence = [] \n",
    "tempo = []\n",
    "\n",
    "for a in range(len(audio_features)):\n",
    "    danceability.append(audio_features[a][\"audio_features\"][0][\"danceability\"])\n",
    "    energy.append(audio_features[a][\"audio_features\"][0][\"energy\"])\n",
    "    loudness.append(audio_features[a][\"audio_features\"][0][\"loudness\"])\n",
    "    mode.append(audio_features[a][\"audio_features\"][0][\"mode\"])\n",
    "    speechiness.append(audio_features[a][\"audio_features\"][0][\"speechiness\"])\n",
    "    acousticness.append(audio_features[a][\"audio_features\"][0][\"acousticness\"])\n",
    "    instrumentalness.append(audio_features[a][\"audio_features\"][0][\"instrumentalness\"])\n",
    "    liveness.append(audio_features[a][\"audio_features\"][0][\"liveness\"])\n",
    "    valence.append(audio_features[a][\"audio_features\"][0][\"valence\"])\n",
    "    tempo.append(audio_features[a][\"audio_features\"][0][\"tempo\"])"
   ]
  },
  {
   "cell_type": "markdown",
   "metadata": {},
   "source": [
    "### Retrieving artist information"
   ]
  },
  {
   "cell_type": "markdown",
   "metadata": {},
   "source": [
    "#### Basic Information about the artisits in the playlist"
   ]
  },
  {
   "cell_type": "code",
   "execution_count": 18,
   "metadata": {},
   "outputs": [],
   "source": [
    "audio_features_endpoint = \"artists/\"\n",
    "base_url = 'https://api.spotify.com/v1/'"
   ]
  },
  {
   "cell_type": "code",
   "execution_count": 19,
   "metadata": {},
   "outputs": [],
   "source": [
    "artist_id = []\n",
    "\n",
    "for z in range(len(playlist[\"tracks\"][\"items\"])):\n",
    "    artist_id.append(playlist[\"tracks\"][\"items\"][z][\"track\"][\"artists\"][0][\"id\"])"
   ]
  },
  {
   "cell_type": "code",
   "execution_count": 20,
   "metadata": {},
   "outputs": [],
   "source": [
    "artist_features = []\n",
    "\n",
    "for z in artist_id:\n",
    "    params_3 = {\"ids\": [z]}\n",
    "    artist_features.append(requests.get(base_url + audio_features_endpoint, params = params_3, headers=headers).json())"
   ]
  },
  {
   "cell_type": "code",
   "execution_count": 21,
   "metadata": {},
   "outputs": [],
   "source": [
    "artist_followers = []\n",
    "genre = []\n",
    "artist_popularity = []\n",
    "\n",
    "for a in range(len(artist_features)):\n",
    "    artist_followers.append(artist_features[a][\"artists\"][0][\"followers\"][\"total\"])\n",
    "    genre.append(artist_features[a][\"artists\"][0][\"genres\"])\n",
    "    if artist_features[a][\"artists\"][0][\"genres\"] == None:\n",
    "        genre.append(None)\n",
    "    artist_popularity.append(artist_features[a][\"artists\"][0][\"popularity\"])"
   ]
  },
  {
   "cell_type": "code",
   "execution_count": 22,
   "metadata": {},
   "outputs": [],
   "source": [
    "genre =  [item[0] for item in genre]"
   ]
  },
  {
   "cell_type": "markdown",
   "metadata": {},
   "source": [
    "#### Retrieving additional information about each artist"
   ]
  },
  {
   "cell_type": "code",
   "execution_count": 23,
   "metadata": {},
   "outputs": [],
   "source": [
    "# identify the list of unique artist\n",
    "artist_set = set(artist_id)\n",
    "unique_artist_id = list(artist_set)"
   ]
  },
  {
   "cell_type": "code",
   "execution_count": 24,
   "metadata": {},
   "outputs": [],
   "source": [
    "top_tracks_1 = []\n",
    "\n",
    "for i in unique_artist_id:\n",
    "    params = {'id': i, 'market': 'ES'}\n",
    "    artist_tt_endpoint = 'artists/' + i + '/top-tracks'\n",
    "    top_tracks_1.append(requests.get(base_url + artist_tt_endpoint, headers = headers, params = params).json())"
   ]
  },
  {
   "cell_type": "code",
   "execution_count": 25,
   "metadata": {},
   "outputs": [],
   "source": [
    "top10 = []\n",
    "\n",
    "for a in range(len(top_tracks_1)):\n",
    "    for b in range(len(top_tracks_1[a][\"tracks\"])):\n",
    "        top10.append(top_tracks_1[a][\"tracks\"][b][\"name\"])"
   ]
  },
  {
   "cell_type": "code",
   "execution_count": 26,
   "metadata": {},
   "outputs": [],
   "source": [
    "chunks = [top10[x:x+10] for x in range(0, len(top10), 10)]\n",
    "top_tracks = dict(zip(unique_artist_id, chunks))"
   ]
  },
  {
   "cell_type": "code",
   "execution_count": 27,
   "metadata": {},
   "outputs": [
    {
     "data": {
      "text/plain": [
       "100"
      ]
     },
     "execution_count": 27,
     "metadata": {},
     "output_type": "execute_result"
    }
   ],
   "source": [
    "is_top = []\n",
    "\n",
    "for i in title:\n",
    "    if i in top10:\n",
    "        is_top.append('yes')\n",
    "    else: \n",
    "        is_top.append('no')\n",
    "        \n",
    "len(is_top)"
   ]
  },
  {
   "cell_type": "markdown",
   "metadata": {},
   "source": [
    "## Storing retrieved Data "
   ]
  },
  {
   "cell_type": "code",
   "execution_count": 28,
   "metadata": {},
   "outputs": [],
   "source": [
    "dict_1 = {\"title\": title, \"album\": album, \"artist\": artist, \"duration\": duration, \"track_number\": track_number,\n",
    "          \"release_date\": release_date, \"track_popularity\": artist_popularity, \"track_id\": track_id\n",
    "          , \"n_available_markets\": n_available_markets, \"danceability\": danceability, \"energy\":energy,\n",
    "          \"loudness\": loudness, \"mode\": mode, \"speechiness\": speechiness, \"acousticness\": acousticness, \n",
    "          \"instrumentalness\": instrumentalness, \"liveness\": liveness, \"valence\": valence, \"tempo\": tempo,\n",
    "          \"artist_followers\": artist_followers, \"genre\": genre, \"is_top\": is_top}\n",
    "df = pd.DataFrame.from_dict(dict_1)"
   ]
  },
  {
   "cell_type": "code",
   "execution_count": 29,
   "metadata": {},
   "outputs": [
    {
     "data": {
      "text/html": [
       "<div>\n",
       "<style scoped>\n",
       "    .dataframe tbody tr th:only-of-type {\n",
       "        vertical-align: middle;\n",
       "    }\n",
       "\n",
       "    .dataframe tbody tr th {\n",
       "        vertical-align: top;\n",
       "    }\n",
       "\n",
       "    .dataframe thead th {\n",
       "        text-align: right;\n",
       "    }\n",
       "</style>\n",
       "<table border=\"1\" class=\"dataframe\">\n",
       "  <thead>\n",
       "    <tr style=\"text-align: right;\">\n",
       "      <th></th>\n",
       "      <th>title</th>\n",
       "      <th>album</th>\n",
       "      <th>artist</th>\n",
       "      <th>duration</th>\n",
       "      <th>track_number</th>\n",
       "      <th>release_date</th>\n",
       "      <th>track_popularity</th>\n",
       "      <th>track_id</th>\n",
       "      <th>n_available_markets</th>\n",
       "      <th>danceability</th>\n",
       "      <th>...</th>\n",
       "      <th>mode</th>\n",
       "      <th>speechiness</th>\n",
       "      <th>acousticness</th>\n",
       "      <th>instrumentalness</th>\n",
       "      <th>liveness</th>\n",
       "      <th>valence</th>\n",
       "      <th>tempo</th>\n",
       "      <th>artist_followers</th>\n",
       "      <th>genre</th>\n",
       "      <th>is_top</th>\n",
       "    </tr>\n",
       "  </thead>\n",
       "  <tbody>\n",
       "    <tr>\n",
       "      <th>0</th>\n",
       "      <td>Creep</td>\n",
       "      <td>Pablo Honey</td>\n",
       "      <td>Radiohead</td>\n",
       "      <td>238640</td>\n",
       "      <td>2</td>\n",
       "      <td>1993-02-22</td>\n",
       "      <td>80</td>\n",
       "      <td>6b2oQwSGFkzsMtQruIWm2p</td>\n",
       "      <td>0</td>\n",
       "      <td>0.515</td>\n",
       "      <td>...</td>\n",
       "      <td>1</td>\n",
       "      <td>0.0369</td>\n",
       "      <td>0.0102</td>\n",
       "      <td>0.000141</td>\n",
       "      <td>0.1290</td>\n",
       "      <td>0.104</td>\n",
       "      <td>91.841</td>\n",
       "      <td>6456512</td>\n",
       "      <td>alternative rock</td>\n",
       "      <td>yes</td>\n",
       "    </tr>\n",
       "    <tr>\n",
       "      <th>1</th>\n",
       "      <td>Black Swan</td>\n",
       "      <td>The Eraser</td>\n",
       "      <td>Thom Yorke</td>\n",
       "      <td>289826</td>\n",
       "      <td>4</td>\n",
       "      <td>2006-07-10</td>\n",
       "      <td>61</td>\n",
       "      <td>4VbV8Zyjuu1qz0QteX1wVC</td>\n",
       "      <td>0</td>\n",
       "      <td>0.613</td>\n",
       "      <td>...</td>\n",
       "      <td>1</td>\n",
       "      <td>0.0336</td>\n",
       "      <td>0.0469</td>\n",
       "      <td>0.708000</td>\n",
       "      <td>0.1280</td>\n",
       "      <td>0.509</td>\n",
       "      <td>101.066</td>\n",
       "      <td>747462</td>\n",
       "      <td>art pop</td>\n",
       "      <td>yes</td>\n",
       "    </tr>\n",
       "    <tr>\n",
       "      <th>2</th>\n",
       "      <td>Two Thousand and Seventeen</td>\n",
       "      <td>New Energy</td>\n",
       "      <td>Four Tet</td>\n",
       "      <td>252255</td>\n",
       "      <td>2</td>\n",
       "      <td>2017-09-29</td>\n",
       "      <td>62</td>\n",
       "      <td>2ZIaH69kaz55RM4Pjx6KXl</td>\n",
       "      <td>177</td>\n",
       "      <td>0.551</td>\n",
       "      <td>...</td>\n",
       "      <td>1</td>\n",
       "      <td>0.0296</td>\n",
       "      <td>0.3270</td>\n",
       "      <td>0.161000</td>\n",
       "      <td>0.0939</td>\n",
       "      <td>0.498</td>\n",
       "      <td>75.495</td>\n",
       "      <td>550009</td>\n",
       "      <td>alternative dance</td>\n",
       "      <td>yes</td>\n",
       "    </tr>\n",
       "    <tr>\n",
       "      <th>3</th>\n",
       "      <td>High And Dry</td>\n",
       "      <td>The Bends</td>\n",
       "      <td>Radiohead</td>\n",
       "      <td>257480</td>\n",
       "      <td>3</td>\n",
       "      <td>1995-03-28</td>\n",
       "      <td>80</td>\n",
       "      <td>5jafMI8FLibnjkYTZ33m0c</td>\n",
       "      <td>0</td>\n",
       "      <td>0.418</td>\n",
       "      <td>...</td>\n",
       "      <td>1</td>\n",
       "      <td>0.0257</td>\n",
       "      <td>0.0718</td>\n",
       "      <td>0.017700</td>\n",
       "      <td>0.0896</td>\n",
       "      <td>0.352</td>\n",
       "      <td>87.773</td>\n",
       "      <td>6456512</td>\n",
       "      <td>alternative rock</td>\n",
       "      <td>no</td>\n",
       "    </tr>\n",
       "    <tr>\n",
       "      <th>4</th>\n",
       "      <td>Karma Police</td>\n",
       "      <td>OK Computer</td>\n",
       "      <td>Radiohead</td>\n",
       "      <td>264066</td>\n",
       "      <td>6</td>\n",
       "      <td>1997-05-28</td>\n",
       "      <td>80</td>\n",
       "      <td>3SVAN3BRByDmHOhKyIDxfC</td>\n",
       "      <td>0</td>\n",
       "      <td>0.360</td>\n",
       "      <td>...</td>\n",
       "      <td>1</td>\n",
       "      <td>0.0260</td>\n",
       "      <td>0.0626</td>\n",
       "      <td>0.000092</td>\n",
       "      <td>0.1720</td>\n",
       "      <td>0.317</td>\n",
       "      <td>74.807</td>\n",
       "      <td>6456512</td>\n",
       "      <td>alternative rock</td>\n",
       "      <td>yes</td>\n",
       "    </tr>\n",
       "  </tbody>\n",
       "</table>\n",
       "<p>5 rows × 22 columns</p>\n",
       "</div>"
      ],
      "text/plain": [
       "                        title        album      artist  duration  \\\n",
       "0                       Creep  Pablo Honey   Radiohead    238640   \n",
       "1                  Black Swan   The Eraser  Thom Yorke    289826   \n",
       "2  Two Thousand and Seventeen   New Energy    Four Tet    252255   \n",
       "3                High And Dry    The Bends   Radiohead    257480   \n",
       "4                Karma Police  OK Computer   Radiohead    264066   \n",
       "\n",
       "   track_number release_date  track_popularity                track_id  \\\n",
       "0             2   1993-02-22                80  6b2oQwSGFkzsMtQruIWm2p   \n",
       "1             4   2006-07-10                61  4VbV8Zyjuu1qz0QteX1wVC   \n",
       "2             2   2017-09-29                62  2ZIaH69kaz55RM4Pjx6KXl   \n",
       "3             3   1995-03-28                80  5jafMI8FLibnjkYTZ33m0c   \n",
       "4             6   1997-05-28                80  3SVAN3BRByDmHOhKyIDxfC   \n",
       "\n",
       "   n_available_markets  danceability  ...  mode  speechiness  acousticness  \\\n",
       "0                    0         0.515  ...     1       0.0369        0.0102   \n",
       "1                    0         0.613  ...     1       0.0336        0.0469   \n",
       "2                  177         0.551  ...     1       0.0296        0.3270   \n",
       "3                    0         0.418  ...     1       0.0257        0.0718   \n",
       "4                    0         0.360  ...     1       0.0260        0.0626   \n",
       "\n",
       "   instrumentalness  liveness  valence    tempo  artist_followers  \\\n",
       "0          0.000141    0.1290    0.104   91.841           6456512   \n",
       "1          0.708000    0.1280    0.509  101.066            747462   \n",
       "2          0.161000    0.0939    0.498   75.495            550009   \n",
       "3          0.017700    0.0896    0.352   87.773           6456512   \n",
       "4          0.000092    0.1720    0.317   74.807           6456512   \n",
       "\n",
       "               genre  is_top  \n",
       "0   alternative rock     yes  \n",
       "1            art pop     yes  \n",
       "2  alternative dance     yes  \n",
       "3   alternative rock      no  \n",
       "4   alternative rock     yes  \n",
       "\n",
       "[5 rows x 22 columns]"
      ]
     },
     "execution_count": 29,
     "metadata": {},
     "output_type": "execute_result"
    }
   ],
   "source": [
    "df.head()"
   ]
  }
 ],
 "metadata": {
  "kernelspec": {
   "display_name": "Python 3",
   "language": "python",
   "name": "python3"
  },
  "language_info": {
   "codemirror_mode": {
    "name": "ipython",
    "version": 3
   },
   "file_extension": ".py",
   "mimetype": "text/x-python",
   "name": "python",
   "nbconvert_exporter": "python",
   "pygments_lexer": "ipython3",
   "version": "3.8.3"
  },
  "toc": {
   "base_numbering": 1,
   "nav_menu": {},
   "number_sections": true,
   "sideBar": true,
   "skip_h1_title": false,
   "title_cell": "Table of Contents",
   "title_sidebar": "Contents",
   "toc_cell": false,
   "toc_position": {},
   "toc_section_display": true,
   "toc_window_display": false
  },
  "varInspector": {
   "cols": {
    "lenName": 16,
    "lenType": 16,
    "lenVar": 40
   },
   "kernels_config": {
    "python": {
     "delete_cmd_postfix": "",
     "delete_cmd_prefix": "del ",
     "library": "var_list.py",
     "varRefreshCmd": "print(var_dic_list())"
    },
    "r": {
     "delete_cmd_postfix": ") ",
     "delete_cmd_prefix": "rm(",
     "library": "var_list.r",
     "varRefreshCmd": "cat(var_dic_list()) "
    }
   },
   "types_to_exclude": [
    "module",
    "function",
    "builtin_function_or_method",
    "instance",
    "_Feature"
   ],
   "window_display": false
  }
 },
 "nbformat": 4,
 "nbformat_minor": 4
}
